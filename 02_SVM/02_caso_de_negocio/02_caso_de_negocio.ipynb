{
  "cells": [
    {
      "cell_type": "markdown",
      "metadata": {
        "id": "WBg9MBDQqHcL"
      },
      "source": [
        "# Caso de Negocio -- Scholastic Travel Company\n",
        "\n",
        "La agencia de viajes Scholastic Travel Company desea crear una estrategia de retención de clientes. Para esto, es necesario que el equipo de analítica cree un modelo de predicción para determinar qué clientes de los que viajaron el año anterior (2011) van a reservar nuevamente el año siguiente (2012). \n",
        "\n",
        "En este Notebook se trabajarán los siguientes temas: \n",
        "\n",
        "- Separación de Datos en Train/Val/Test\n",
        "- Análisis de Correlaciones\n",
        "- Ajuste del mejor SVM \n",
        "- Métricas de Evaluación\n",
        "\n",
        "\n",
        "<table class=\"tfo-notebook-buttons\" align=\"center\">\n",
        "\n",
        "  <td>\n",
        "    <a target=\"_blank\" href=\"https://colab.research.google.com/github/juancop/metodos_analitica_2/blob/main/02_SVM/02_caso_de_negocio/02_caso_de_negocio.ipynb\"><img src=\"https://colab.research.google.com/assets/colab-badge.svg\" /></a>\n",
        "  </td>\n",
        "  <td>\n",
        "    <a target=\"_blank\" href=\"https://github.com/juancop/metodos_analitica_2/blob/dev/01_optimization/02_SVM/02_caso_de_negocio/02_caso_de_negocio.ipynb\"><img src=\"https://www.tensorflow.org/images/GitHub-Mark-32px.png\" /></a>\n",
        "  </td>\n",
        "  \n",
        "</table>"
      ]
    },
    {
      "cell_type": "code",
      "execution_count": 1,
      "metadata": {
        "id": "e5tN8tUorjY7"
      },
      "outputs": [],
      "source": [
        "import pandas as pd\n",
        "import numpy as np\n",
        "import seaborn as sns\n",
        "import matplotlib.pyplot as plt\n",
        "from sklearn.svm import SVC"
      ]
    },
    {
      "cell_type": "markdown",
      "metadata": {
        "id": "_pdyJgSIqF6l"
      },
      "source": [
        "A continuación se carga la base de datos de STC, que cuenta con 2389 registros de clientes que viajaron en 2011 y tiene una variable que determina si el cliente viajó nuevamente en 2012. "
      ]
    },
    {
      "cell_type": "code",
      "execution_count": 2,
      "metadata": {
        "id": "UAXS4X9artmG"
      },
      "outputs": [],
      "source": [
        "df = pd.read_csv('STC_datos_grupos.csv', sep = ';')"
      ]
    },
    {
      "cell_type": "code",
      "execution_count": 3,
      "metadata": {
        "id": "cnsCr0Wirl-F"
      },
      "outputs": [
        {
          "data": {
            "text/plain": [
              "(2389, 56)"
            ]
          },
          "execution_count": 3,
          "metadata": {},
          "output_type": "execute_result"
        }
      ],
      "source": [
        "df.shape"
      ]
    },
    {
      "cell_type": "code",
      "execution_count": 4,
      "metadata": {
        "id": "SVkrgyq66Xa-"
      },
      "outputs": [
        {
          "data": {
            "text/html": [
              "<div>\n",
              "<style scoped>\n",
              "    .dataframe tbody tr th:only-of-type {\n",
              "        vertical-align: middle;\n",
              "    }\n",
              "\n",
              "    .dataframe tbody tr th {\n",
              "        vertical-align: top;\n",
              "    }\n",
              "\n",
              "    .dataframe thead th {\n",
              "        text-align: right;\n",
              "    }\n",
              "</style>\n",
              "<table border=\"1\" class=\"dataframe\">\n",
              "  <thead>\n",
              "    <tr style=\"text-align: right;\">\n",
              "      <th></th>\n",
              "      <th>ID</th>\n",
              "      <th>Program.Code</th>\n",
              "      <th>From.Grade</th>\n",
              "      <th>To.Grade</th>\n",
              "      <th>Group.State</th>\n",
              "      <th>Is.Non.Annual.</th>\n",
              "      <th>Days</th>\n",
              "      <th>Travel.Type</th>\n",
              "      <th>Departure.Date</th>\n",
              "      <th>Return.Date</th>\n",
              "      <th>...</th>\n",
              "      <th>GroupGradeTypeLow</th>\n",
              "      <th>GroupGradeTypeHigh</th>\n",
              "      <th>GroupGradeType</th>\n",
              "      <th>MajorProgramCode</th>\n",
              "      <th>SingleGradeTripFlag</th>\n",
              "      <th>FPP.to.School.enrollment</th>\n",
              "      <th>FPP.to.PAX</th>\n",
              "      <th>Num.of.Non_FPP.PAX</th>\n",
              "      <th>SchoolSizeIndicator</th>\n",
              "      <th>Retained.in.2012.</th>\n",
              "    </tr>\n",
              "  </thead>\n",
              "  <tbody>\n",
              "    <tr>\n",
              "      <th>0</th>\n",
              "      <td>1</td>\n",
              "      <td>HS</td>\n",
              "      <td>4.0</td>\n",
              "      <td>4.0</td>\n",
              "      <td>CA</td>\n",
              "      <td>0</td>\n",
              "      <td>1</td>\n",
              "      <td>A</td>\n",
              "      <td>40557</td>\n",
              "      <td>40557</td>\n",
              "      <td>...</td>\n",
              "      <td>K</td>\n",
              "      <td>Elementary</td>\n",
              "      <td>K-&gt;Elementary</td>\n",
              "      <td>H</td>\n",
              "      <td>1</td>\n",
              "      <td>0.06364617</td>\n",
              "      <td>0.936508</td>\n",
              "      <td>4</td>\n",
              "      <td>L</td>\n",
              "      <td>1</td>\n",
              "    </tr>\n",
              "    <tr>\n",
              "      <th>1</th>\n",
              "      <td>2</td>\n",
              "      <td>HC</td>\n",
              "      <td>8.0</td>\n",
              "      <td>8.0</td>\n",
              "      <td>AZ</td>\n",
              "      <td>0</td>\n",
              "      <td>7</td>\n",
              "      <td>A</td>\n",
              "      <td>40557</td>\n",
              "      <td>40564</td>\n",
              "      <td>...</td>\n",
              "      <td>Middle</td>\n",
              "      <td>Middle</td>\n",
              "      <td>Middle-&gt;Middle</td>\n",
              "      <td>H</td>\n",
              "      <td>1</td>\n",
              "      <td>0.025882353</td>\n",
              "      <td>0.880000</td>\n",
              "      <td>3</td>\n",
              "      <td>L</td>\n",
              "      <td>1</td>\n",
              "    </tr>\n",
              "    <tr>\n",
              "      <th>2</th>\n",
              "      <td>3</td>\n",
              "      <td>HD</td>\n",
              "      <td>8.0</td>\n",
              "      <td>8.0</td>\n",
              "      <td>FL</td>\n",
              "      <td>0</td>\n",
              "      <td>3</td>\n",
              "      <td>A</td>\n",
              "      <td>40558</td>\n",
              "      <td>40560</td>\n",
              "      <td>...</td>\n",
              "      <td>Middle</td>\n",
              "      <td>Middle</td>\n",
              "      <td>Middle-&gt;Middle</td>\n",
              "      <td>H</td>\n",
              "      <td>1</td>\n",
              "      <td>0.02513089</td>\n",
              "      <td>0.888889</td>\n",
              "      <td>3</td>\n",
              "      <td>L</td>\n",
              "      <td>1</td>\n",
              "    </tr>\n",
              "    <tr>\n",
              "      <th>3</th>\n",
              "      <td>4</td>\n",
              "      <td>HN</td>\n",
              "      <td>9.0</td>\n",
              "      <td>12.0</td>\n",
              "      <td>VA</td>\n",
              "      <td>1</td>\n",
              "      <td>3</td>\n",
              "      <td>B</td>\n",
              "      <td>40558</td>\n",
              "      <td>40560</td>\n",
              "      <td>...</td>\n",
              "      <td>Undefined</td>\n",
              "      <td>Undefined</td>\n",
              "      <td>Undefined-&gt;Undefined</td>\n",
              "      <td>H</td>\n",
              "      <td>0</td>\n",
              "      <td>NaN</td>\n",
              "      <td>1.000000</td>\n",
              "      <td>0</td>\n",
              "      <td>NaN</td>\n",
              "      <td>0</td>\n",
              "    </tr>\n",
              "    <tr>\n",
              "      <th>4</th>\n",
              "      <td>5</td>\n",
              "      <td>HD</td>\n",
              "      <td>6.0</td>\n",
              "      <td>8.0</td>\n",
              "      <td>FL</td>\n",
              "      <td>0</td>\n",
              "      <td>6</td>\n",
              "      <td>T</td>\n",
              "      <td>40559</td>\n",
              "      <td>40564</td>\n",
              "      <td>...</td>\n",
              "      <td>Middle</td>\n",
              "      <td>Middle</td>\n",
              "      <td>Middle-&gt;Middle</td>\n",
              "      <td>H</td>\n",
              "      <td>0</td>\n",
              "      <td>0.1125</td>\n",
              "      <td>0.910112</td>\n",
              "      <td>8</td>\n",
              "      <td>M-L</td>\n",
              "      <td>0</td>\n",
              "    </tr>\n",
              "  </tbody>\n",
              "</table>\n",
              "<p>5 rows × 56 columns</p>\n",
              "</div>"
            ],
            "text/plain": [
              "   ID Program.Code  From.Grade  To.Grade Group.State  Is.Non.Annual.  Days  \\\n",
              "0   1           HS         4.0       4.0          CA               0     1   \n",
              "1   2           HC         8.0       8.0          AZ               0     7   \n",
              "2   3           HD         8.0       8.0          FL               0     3   \n",
              "3   4           HN         9.0      12.0          VA               1     3   \n",
              "4   5           HD         6.0       8.0          FL               0     6   \n",
              "\n",
              "  Travel.Type  Departure.Date  Return.Date  ...  GroupGradeTypeLow  \\\n",
              "0           A           40557        40557  ...                  K   \n",
              "1           A           40557        40564  ...             Middle   \n",
              "2           A           40558        40560  ...             Middle   \n",
              "3           B           40558        40560  ...          Undefined   \n",
              "4           T           40559        40564  ...             Middle   \n",
              "\n",
              "  GroupGradeTypeHigh        GroupGradeType  MajorProgramCode  \\\n",
              "0         Elementary         K->Elementary                 H   \n",
              "1             Middle        Middle->Middle                 H   \n",
              "2             Middle        Middle->Middle                 H   \n",
              "3          Undefined  Undefined->Undefined                 H   \n",
              "4             Middle        Middle->Middle                 H   \n",
              "\n",
              "   SingleGradeTripFlag  FPP.to.School.enrollment  FPP.to.PAX  \\\n",
              "0                    1                0.06364617    0.936508   \n",
              "1                    1               0.025882353    0.880000   \n",
              "2                    1                0.02513089    0.888889   \n",
              "3                    0                       NaN    1.000000   \n",
              "4                    0                    0.1125    0.910112   \n",
              "\n",
              "   Num.of.Non_FPP.PAX  SchoolSizeIndicator  Retained.in.2012.  \n",
              "0                   4                    L                  1  \n",
              "1                   3                    L                  1  \n",
              "2                   3                    L                  1  \n",
              "3                   0                  NaN                  0  \n",
              "4                   8                  M-L                  0  \n",
              "\n",
              "[5 rows x 56 columns]"
            ]
          },
          "execution_count": 4,
          "metadata": {},
          "output_type": "execute_result"
        }
      ],
      "source": [
        "df.head()"
      ]
    },
    {
      "cell_type": "markdown",
      "metadata": {
        "id": "o9N1Bf4Js6fE"
      },
      "source": [
        "Se cuenta con 54 variables independientes y una variable explicativa, `Retained.in.2012.`. "
      ]
    },
    {
      "cell_type": "code",
      "execution_count": 5,
      "metadata": {
        "id": "FFf39trL_rd_"
      },
      "outputs": [],
      "source": [
        "df = df.drop(columns = ['FirstMeeting', 'LastMeeting', 'Initial.System.Date', 'Early.RPL', 'Latest.RPL', 'Departure.Date', 'Return.Date', 'Deposit.Date', 'ID'])"
      ]
    },
    {
      "cell_type": "code",
      "execution_count": 6,
      "metadata": {
        "id": "Cgzkz5MO6X_X"
      },
      "outputs": [
        {
          "data": {
            "text/plain": [
              "Index(['Program.Code', 'From.Grade', 'To.Grade', 'Group.State',\n",
              "       'Is.Non.Annual.', 'Days', 'Travel.Type', 'Special.Pay', 'Tuition',\n",
              "       'FRP.Active', 'FRP.Cancelled', 'FRP.Take.up.percent.', 'Cancelled.Pax',\n",
              "       'Total.Discount.Pax', 'Poverty.Code', 'Region', 'CRM.Segment',\n",
              "       'School.Type', 'Parent.Meeting.Flag', 'MDR.Low.Grade', 'MDR.High.Grade',\n",
              "       'Total.School.Enrollment', 'Income.Level', 'EZ.Pay.Take.Up.Rate',\n",
              "       'School.Sponsor', 'SPR.Product.Type', 'SPR.New.Existing', 'FPP',\n",
              "       'Total.Pax', 'SPR.Group.Revenue', 'NumberOfMeetingswithParents',\n",
              "       'DifferenceTraveltoFirstMeeting', 'DifferenceTraveltoLastMeeting',\n",
              "       'SchoolGradeTypeLow', 'SchoolGradeTypeHigh', 'SchoolGradeType',\n",
              "       'DepartureMonth', 'GroupGradeTypeLow', 'GroupGradeTypeHigh',\n",
              "       'GroupGradeType', 'MajorProgramCode', 'SingleGradeTripFlag',\n",
              "       'FPP.to.School.enrollment', 'FPP.to.PAX', 'Num.of.Non_FPP.PAX',\n",
              "       'SchoolSizeIndicator', 'Retained.in.2012.'],\n",
              "      dtype='object')"
            ]
          },
          "execution_count": 6,
          "metadata": {},
          "output_type": "execute_result"
        }
      ],
      "source": [
        "df.columns"
      ]
    },
    {
      "cell_type": "markdown",
      "metadata": {
        "id": "qwoEgd_Q04WR"
      },
      "source": [
        "# Limpieza de Datos\n",
        "\n",
        "Nos entregan una base de datos que tiene demasiadas variables categóricas que pueden o no aportar información para el modelo. A continuación se limpiarán las categorías y se hará imputación de datos en caso de que haya variables faltantes. "
      ]
    },
    {
      "cell_type": "code",
      "execution_count": 7,
      "metadata": {
        "id": "uZiPfB3J1Zkl"
      },
      "outputs": [],
      "source": [
        "## Asignación de tipos categóricos\n",
        "\n",
        "categorical_features = ['From.Grade', 'To.Grade', 'Group.State', 'Travel.Type', 'Poverty.Code', 'CRM.Segment', 'School.Type', 'Parent.Meeting.Flag', \n",
        "                        'MDR.High.Grade', 'School.Sponsor', 'SchoolGradeTypeLow', 'SchoolGradeTypeHigh', 'GroupGradeTypeLow', 'GroupGradeTypeHigh',\n",
        "                        'MajorProgramCode', 'SingleGradeTripFlag', 'SchoolSizeIndicator', 'Region', 'Special.Pay',    \n",
        "                        'Income.Level', 'SPR.Product.Type', 'SPR.New.Existing', 'DepartureMonth', 'MDR.Low.Grade', \n",
        "                        'FPP.to.School.enrollment', 'GroupGradeType', 'Program.Code', 'SchoolGradeType']\n",
        "\n",
        "df[categorical_features] = df[categorical_features].apply(lambda x: x.astype('category'))\n",
        "\n"
      ]
    },
    {
      "attachments": {},
      "cell_type": "markdown",
      "metadata": {},
      "source": [
        "# EDA\n",
        "\n",
        "Se realizará una exploración de los datos con la variable de respuesta."
      ]
    },
    {
      "cell_type": "code",
      "execution_count": 8,
      "metadata": {},
      "outputs": [
        {
          "data": {
            "image/png": "[encoded data removed]",
            "text/plain": [
              "<Figure size 640x480 with 3 Axes>"
            ]
          },
          "metadata": {},
          "output_type": "display_data"
        }
      ],
      "source": [
        "import seaborn as sns\n",
        "import matplotlib.pyplot as plt\n",
        "from statsmodels.graphics.mosaicplot import mosaic\n",
        "\n",
        "# Define a function to format the labels\n",
        "def labelizer(keys):\n",
        "    return f'{keys[0]}: {keys[1]}'\n",
        "\n",
        "# Create a mosaic plot of the variables, with labels and axis labels\n",
        "mosaic(df, ['Is.Non.Annual.', 'Retained.in.2012.'], title='Mosaic Plot of Is.Non.Annual. and Retained.in.2012.', labelizer=labelizer, axes_label=True)\n",
        "\n",
        "# Add a title to the plot\n",
        "plt.title('Mosaic Plot of Is.Non.Annual. and Retained.in.2012.')\n",
        "\n",
        "# Show the plot\n",
        "plt.show()"
      ]
    },
    {
      "attachments": {},
      "cell_type": "markdown",
      "metadata": {},
      "source": [
        "Existe una dependencia entre la variable de respuesta `Retained.in.2012.` y la variable `Is.Non.Annual.`, ya que cuando una sucede la otra no (ver relaciones de cajas 0:1 y 1:0)"
      ]
    },
    {
      "cell_type": "code",
      "execution_count": 14,
      "metadata": {},
      "outputs": [
        {
          "data": {
            "text/html": [
              "<div>\n",
              "<style scoped>\n",
              "    .dataframe tbody tr th:only-of-type {\n",
              "        vertical-align: middle;\n",
              "    }\n",
              "\n",
              "    .dataframe tbody tr th {\n",
              "        vertical-align: top;\n",
              "    }\n",
              "\n",
              "    .dataframe thead th {\n",
              "        text-align: right;\n",
              "    }\n",
              "</style>\n",
              "<table border=\"1\" class=\"dataframe\">\n",
              "  <thead>\n",
              "    <tr style=\"text-align: right;\">\n",
              "      <th>Retained.in.2012.</th>\n",
              "      <th>0</th>\n",
              "      <th>1</th>\n",
              "      <th>Total</th>\n",
              "    </tr>\n",
              "    <tr>\n",
              "      <th>Is.Non.Annual.</th>\n",
              "      <th></th>\n",
              "      <th></th>\n",
              "      <th></th>\n",
              "    </tr>\n",
              "  </thead>\n",
              "  <tbody>\n",
              "    <tr>\n",
              "      <th>0</th>\n",
              "      <td>629</td>\n",
              "      <td>1392</td>\n",
              "      <td>2021</td>\n",
              "    </tr>\n",
              "    <tr>\n",
              "      <th>1</th>\n",
              "      <td>309</td>\n",
              "      <td>59</td>\n",
              "      <td>368</td>\n",
              "    </tr>\n",
              "    <tr>\n",
              "      <th>Total</th>\n",
              "      <td>938</td>\n",
              "      <td>1451</td>\n",
              "      <td>2389</td>\n",
              "    </tr>\n",
              "  </tbody>\n",
              "</table>\n",
              "</div>"
            ],
            "text/plain": [
              "Retained.in.2012.    0     1  Total\n",
              "Is.Non.Annual.                     \n",
              "0                  629  1392   2021\n",
              "1                  309    59    368\n",
              "Total              938  1451   2389"
            ]
          },
          "execution_count": 14,
          "metadata": {},
          "output_type": "execute_result"
        }
      ],
      "source": [
        "# Create a contingency table for the two variables, with totals\n",
        "contingency_table = pd.crosstab(df['Is.Non.Annual.'], df['Retained.in.2012.'], margins=True, margins_name='Total')\n",
        "contingency_table"
      ]
    },
    {
      "attachments": {},
      "cell_type": "markdown",
      "metadata": {},
      "source": [
        "Al observar la variable de respuesta, se observa que esta desbalanceada ya que se encuentran 938 casos de nuestro interés y 1451 que no, por lo que se va a necesitar balancear estos datos depúes."
      ]
    },
    {
      "cell_type": "code",
      "execution_count": 15,
      "metadata": {},
      "outputs": [
        {
          "data": {
            "image/png": "[encoded data removed]",
            "text/plain": [
              "<Figure size 640x480 with 1 Axes>"
            ]
          },
          "metadata": {},
          "output_type": "display_data"
        },
        {
          "data": {
            "image/png": "[encoded data removed]",
            "text/plain": [
              "<Figure size 640x480 with 1 Axes>"
            ]
          },
          "metadata": {},
          "output_type": "display_data"
        }
      ],
      "source": [
        "# Create a boxplot of Tuition with a hue based on Is.Non.Annual.\n",
        "sns.boxplot(data=df, x='Is.Non.Annual.', y='Tuition')\n",
        "# Add a title and y-axis label\n",
        "plt.title('Boxplot of Tuition with a Hue Based on Is.Non.Annual.')\n",
        "plt.ylabel('Tuition')\n",
        "# Show the plot\n",
        "plt.show()\n",
        "\n",
        "# Create a violin plot of Tuition with a hue based on Is.Non.Annual.\n",
        "sns.violinplot(data=df, x='Is.Non.Annual.', y='Tuition')\n",
        "# Add a title and y-axis label\n",
        "plt.title('Violin Plot of Tuition with a Hue Based on Is.Non.Annual.')\n",
        "plt.ylabel('Tuition')\n",
        "# Show the plot\n",
        "plt.show()"
      ]
    },
    {
      "attachments": {},
      "cell_type": "markdown",
      "metadata": {},
      "source": [
        "La dispersión del grupo que no se logra retener es mayor del que sí, también genera bastante interés que la mediana del grupo que no se logra retener es menor al grupo que se retuvo. Por otra parte en el gráfico de violín se observa que hay dos distribuciones difirentes, es decir el grupo que no se logró retener tiene una posible distribución bimodal."
      ]
    },
    {
      "cell_type": "code",
      "execution_count": 30,
      "metadata": {},
      "outputs": [
        {
          "data": {
            "image/png": "[encoded data removed]",
            "text/plain": [
              "<Figure size 640x480 with 1 Axes>"
            ]
          },
          "metadata": {},
          "output_type": "display_data"
        }
      ],
      "source": [
        "# Create the histogram\n",
        "sns.histplot(data=df, y='Program.Code', hue='Is.Non.Annual.')\n",
        "\n",
        "# Add a title and x-axis label\n",
        "plt.title('Barplot of Program.Code with a Hue Based on Is.Non.Annual.')\n",
        "plt.xlabel('Program.Code')\n",
        "\n",
        "# Show the plot\n",
        "plt.show()"
      ]
    },
    {
      "attachments": {},
      "cell_type": "markdown",
      "metadata": {},
      "source": [
        "La mayor cantidad de viajeros no se lograron detener por programa, pero exiten tres grupos que podrian ser el core del negocio (HD, HC y HS) "
      ]
    },
    {
      "cell_type": "markdown",
      "metadata": {
        "id": "7sacgGAv9E7s"
      },
      "source": [
        "## División en Train y Test\n",
        "\n",
        "Antes de comenzar con la limpieza de datos (que es inputación de missing values, estandarizaciones, etc...) es importante realizar la división en train-test. No queremos codificar en los datos de entrenamiento información de los datos de prueba... \n",
        "\n",
        "Para esto, utilice la función de [`sklearn.model_selection.train_test_split`](https://scikit-learn.org/stable/modules/generated/sklearn.model_selection.train_test_split.html)."
      ]
    },
    {
      "cell_type": "code",
      "execution_count": 31,
      "metadata": {
        "id": "oE6oE-ek8keD"
      },
      "outputs": [],
      "source": [
        "from sklearn.model_selection import train_test_split\n",
        "\n",
        "y = df['Retained.in.2012.']\n",
        "X = df.drop(columns = 'Retained.in.2012.')\n",
        "\n",
        "### Utilice train_test_split para dividir los datos en entrenamiento y test. \n",
        "\n",
        "# Deje que el tamaño de test sea de 30%\n",
        "# Random Sate: 42 para fines comparativos\n",
        "\n",
        "X_train, X_test, y_train, y_test = train_test_split(X, y, test_size=0.3, random_state=42)\n",
        "                                                    \n",
        "###"
      ]
    },
    {
      "cell_type": "markdown",
      "metadata": {
        "id": "4fJtpLZi-XiB"
      },
      "source": [
        "Verifique que la concentración de la variable dependiente sea similar en la base de entrenamiento y en la de validación."
      ]
    },
    {
      "cell_type": "code",
      "execution_count": 32,
      "metadata": {
        "id": "ACs5mouA790K"
      },
      "outputs": [
        {
          "data": {
            "text/plain": [
              "1    0.589958\n",
              "0    0.410042\n",
              "Name: Retained.in.2012., dtype: float64"
            ]
          },
          "execution_count": 32,
          "metadata": {},
          "output_type": "execute_result"
        }
      ],
      "source": [
        "y_test.value_counts()/len(y_test)"
      ]
    },
    {
      "cell_type": "code",
      "execution_count": 33,
      "metadata": {
        "id": "a5SBjTNP5IFn"
      },
      "outputs": [
        {
          "data": {
            "text/plain": [
              "1    0.614833\n",
              "0    0.385167\n",
              "Name: Retained.in.2012., dtype: float64"
            ]
          },
          "execution_count": 33,
          "metadata": {},
          "output_type": "execute_result"
        }
      ],
      "source": [
        "y_train.value_counts()/len(y_train)"
      ]
    },
    {
      "cell_type": "markdown",
      "metadata": {
        "id": "mXuj3CEr-qiu"
      },
      "source": [
        "## Missing Values\n",
        "\n",
        "A continuación se realizará la inputación de valores faltantes. Utilizando el método `X_train.isna().sum()`"
      ]
    },
    {
      "cell_type": "code",
      "execution_count": 34,
      "metadata": {
        "id": "FUNXm2rT-prD"
      },
      "outputs": [
        {
          "data": {
            "text/html": [
              "<div>\n",
              "<style scoped>\n",
              "    .dataframe tbody tr th:only-of-type {\n",
              "        vertical-align: middle;\n",
              "    }\n",
              "\n",
              "    .dataframe tbody tr th {\n",
              "        vertical-align: top;\n",
              "    }\n",
              "\n",
              "    .dataframe thead th {\n",
              "        text-align: right;\n",
              "    }\n",
              "</style>\n",
              "<table border=\"1\" class=\"dataframe\">\n",
              "  <thead>\n",
              "    <tr style=\"text-align: right;\">\n",
              "      <th></th>\n",
              "      <th>0</th>\n",
              "    </tr>\n",
              "  </thead>\n",
              "  <tbody>\n",
              "    <tr>\n",
              "      <th>Program.Code</th>\n",
              "      <td>0.000000</td>\n",
              "    </tr>\n",
              "    <tr>\n",
              "      <th>From.Grade</th>\n",
              "      <td>0.054426</td>\n",
              "    </tr>\n",
              "    <tr>\n",
              "      <th>To.Grade</th>\n",
              "      <td>0.064593</td>\n",
              "    </tr>\n",
              "    <tr>\n",
              "      <th>Group.State</th>\n",
              "      <td>0.000000</td>\n",
              "    </tr>\n",
              "    <tr>\n",
              "      <th>Is.Non.Annual.</th>\n",
              "      <td>0.000000</td>\n",
              "    </tr>\n",
              "    <tr>\n",
              "      <th>Days</th>\n",
              "      <td>0.000000</td>\n",
              "    </tr>\n",
              "    <tr>\n",
              "      <th>Travel.Type</th>\n",
              "      <td>0.000000</td>\n",
              "    </tr>\n",
              "    <tr>\n",
              "      <th>Special.Pay</th>\n",
              "      <td>0.805622</td>\n",
              "    </tr>\n",
              "    <tr>\n",
              "      <th>Tuition</th>\n",
              "      <td>0.000000</td>\n",
              "    </tr>\n",
              "    <tr>\n",
              "      <th>FRP.Active</th>\n",
              "      <td>0.000000</td>\n",
              "    </tr>\n",
              "    <tr>\n",
              "      <th>FRP.Cancelled</th>\n",
              "      <td>0.000000</td>\n",
              "    </tr>\n",
              "    <tr>\n",
              "      <th>FRP.Take.up.percent.</th>\n",
              "      <td>0.000000</td>\n",
              "    </tr>\n",
              "    <tr>\n",
              "      <th>Cancelled.Pax</th>\n",
              "      <td>0.000000</td>\n",
              "    </tr>\n",
              "    <tr>\n",
              "      <th>Total.Discount.Pax</th>\n",
              "      <td>0.000000</td>\n",
              "    </tr>\n",
              "    <tr>\n",
              "      <th>Poverty.Code</th>\n",
              "      <td>0.254187</td>\n",
              "    </tr>\n",
              "    <tr>\n",
              "      <th>Region</th>\n",
              "      <td>0.000000</td>\n",
              "    </tr>\n",
              "    <tr>\n",
              "      <th>CRM.Segment</th>\n",
              "      <td>0.001196</td>\n",
              "    </tr>\n",
              "    <tr>\n",
              "      <th>School.Type</th>\n",
              "      <td>0.000000</td>\n",
              "    </tr>\n",
              "    <tr>\n",
              "      <th>Parent.Meeting.Flag</th>\n",
              "      <td>0.000000</td>\n",
              "    </tr>\n",
              "    <tr>\n",
              "      <th>MDR.Low.Grade</th>\n",
              "      <td>0.033493</td>\n",
              "    </tr>\n",
              "    <tr>\n",
              "      <th>MDR.High.Grade</th>\n",
              "      <td>0.033493</td>\n",
              "    </tr>\n",
              "    <tr>\n",
              "      <th>Total.School.Enrollment</th>\n",
              "      <td>0.043062</td>\n",
              "    </tr>\n",
              "    <tr>\n",
              "      <th>Income.Level</th>\n",
              "      <td>0.030502</td>\n",
              "    </tr>\n",
              "    <tr>\n",
              "      <th>EZ.Pay.Take.Up.Rate</th>\n",
              "      <td>0.000000</td>\n",
              "    </tr>\n",
              "    <tr>\n",
              "      <th>School.Sponsor</th>\n",
              "      <td>0.000000</td>\n",
              "    </tr>\n",
              "    <tr>\n",
              "      <th>SPR.Product.Type</th>\n",
              "      <td>0.000000</td>\n",
              "    </tr>\n",
              "    <tr>\n",
              "      <th>SPR.New.Existing</th>\n",
              "      <td>0.000000</td>\n",
              "    </tr>\n",
              "    <tr>\n",
              "      <th>FPP</th>\n",
              "      <td>0.000000</td>\n",
              "    </tr>\n",
              "    <tr>\n",
              "      <th>Total.Pax</th>\n",
              "      <td>0.000000</td>\n",
              "    </tr>\n",
              "    <tr>\n",
              "      <th>SPR.Group.Revenue</th>\n",
              "      <td>0.000000</td>\n",
              "    </tr>\n",
              "    <tr>\n",
              "      <th>NumberOfMeetingswithParents</th>\n",
              "      <td>0.000000</td>\n",
              "    </tr>\n",
              "    <tr>\n",
              "      <th>DifferenceTraveltoFirstMeeting</th>\n",
              "      <td>0.145335</td>\n",
              "    </tr>\n",
              "    <tr>\n",
              "      <th>DifferenceTraveltoLastMeeting</th>\n",
              "      <td>0.145335</td>\n",
              "    </tr>\n",
              "    <tr>\n",
              "      <th>SchoolGradeTypeLow</th>\n",
              "      <td>0.000000</td>\n",
              "    </tr>\n",
              "    <tr>\n",
              "      <th>SchoolGradeTypeHigh</th>\n",
              "      <td>0.000000</td>\n",
              "    </tr>\n",
              "    <tr>\n",
              "      <th>SchoolGradeType</th>\n",
              "      <td>0.000000</td>\n",
              "    </tr>\n",
              "    <tr>\n",
              "      <th>DepartureMonth</th>\n",
              "      <td>0.000000</td>\n",
              "    </tr>\n",
              "    <tr>\n",
              "      <th>GroupGradeTypeLow</th>\n",
              "      <td>0.000000</td>\n",
              "    </tr>\n",
              "    <tr>\n",
              "      <th>GroupGradeTypeHigh</th>\n",
              "      <td>0.000000</td>\n",
              "    </tr>\n",
              "    <tr>\n",
              "      <th>GroupGradeType</th>\n",
              "      <td>0.000000</td>\n",
              "    </tr>\n",
              "    <tr>\n",
              "      <th>MajorProgramCode</th>\n",
              "      <td>0.000000</td>\n",
              "    </tr>\n",
              "    <tr>\n",
              "      <th>SingleGradeTripFlag</th>\n",
              "      <td>0.000000</td>\n",
              "    </tr>\n",
              "    <tr>\n",
              "      <th>FPP.to.School.enrollment</th>\n",
              "      <td>0.043062</td>\n",
              "    </tr>\n",
              "    <tr>\n",
              "      <th>FPP.to.PAX</th>\n",
              "      <td>0.000000</td>\n",
              "    </tr>\n",
              "    <tr>\n",
              "      <th>Num.of.Non_FPP.PAX</th>\n",
              "      <td>0.000000</td>\n",
              "    </tr>\n",
              "    <tr>\n",
              "      <th>SchoolSizeIndicator</th>\n",
              "      <td>0.043062</td>\n",
              "    </tr>\n",
              "  </tbody>\n",
              "</table>\n",
              "</div>"
            ],
            "text/plain": [
              "                                       0\n",
              "Program.Code                    0.000000\n",
              "From.Grade                      0.054426\n",
              "To.Grade                        0.064593\n",
              "Group.State                     0.000000\n",
              "Is.Non.Annual.                  0.000000\n",
              "Days                            0.000000\n",
              "Travel.Type                     0.000000\n",
              "Special.Pay                     0.805622\n",
              "Tuition                         0.000000\n",
              "FRP.Active                      0.000000\n",
              "FRP.Cancelled                   0.000000\n",
              "FRP.Take.up.percent.            0.000000\n",
              "Cancelled.Pax                   0.000000\n",
              "Total.Discount.Pax              0.000000\n",
              "Poverty.Code                    0.254187\n",
              "Region                          0.000000\n",
              "CRM.Segment                     0.001196\n",
              "School.Type                     0.000000\n",
              "Parent.Meeting.Flag             0.000000\n",
              "MDR.Low.Grade                   0.033493\n",
              "MDR.High.Grade                  0.033493\n",
              "Total.School.Enrollment         0.043062\n",
              "Income.Level                    0.030502\n",
              "EZ.Pay.Take.Up.Rate             0.000000\n",
              "School.Sponsor                  0.000000\n",
              "SPR.Product.Type                0.000000\n",
              "SPR.New.Existing                0.000000\n",
              "FPP                             0.000000\n",
              "Total.Pax                       0.000000\n",
              "SPR.Group.Revenue               0.000000\n",
              "NumberOfMeetingswithParents     0.000000\n",
              "DifferenceTraveltoFirstMeeting  0.145335\n",
              "DifferenceTraveltoLastMeeting   0.145335\n",
              "SchoolGradeTypeLow              0.000000\n",
              "SchoolGradeTypeHigh             0.000000\n",
              "SchoolGradeType                 0.000000\n",
              "DepartureMonth                  0.000000\n",
              "GroupGradeTypeLow               0.000000\n",
              "GroupGradeTypeHigh              0.000000\n",
              "GroupGradeType                  0.000000\n",
              "MajorProgramCode                0.000000\n",
              "SingleGradeTripFlag             0.000000\n",
              "FPP.to.School.enrollment        0.043062\n",
              "FPP.to.PAX                      0.000000\n",
              "Num.of.Non_FPP.PAX              0.000000\n",
              "SchoolSizeIndicator             0.043062"
            ]
          },
          "execution_count": 34,
          "metadata": {},
          "output_type": "execute_result"
        }
      ],
      "source": [
        "pd.DataFrame(X_train.isna().sum()/len(X_train))"
      ]
    },
    {
      "cell_type": "markdown",
      "metadata": {
        "id": "pmLkQkC3BKs3"
      },
      "source": [
        "Se observa que hay pocas columnas con valores faltantes. El 14% de los datos de entrenamiento no tuvo reuniones de padres, y el 25% no tiene asignado un código de pobreza. Es importante inputar los valores faltantes para poder realizar el entrenamiento. \n",
        "\n",
        "Utilice el método de [`sklearn.impute.SimpleImputer`](https://scikit-learn.org/stable/modules/generated/sklearn.impute.SimpleImputer.html) para entrenar un imputador para variables categóricas y variables numéricas. "
      ]
    },
    {
      "cell_type": "code",
      "execution_count": 35,
      "metadata": {
        "id": "rLDm2k2SCmje"
      },
      "outputs": [],
      "source": [
        "from sklearn.impute import SimpleImputer\n",
        "\n",
        "categorical_columns = X_train.select_dtypes(exclude = [int, float]).columns\n",
        "numerical_columns = X_train.select_dtypes(include = [int, float]).columns\n",
        "\n",
        "### Imputador de Variables Categóricas -- strategy -> constant\n",
        "\n",
        "categorical_imputer =  SimpleImputer(missing_values=np.nan, strategy='most_frequent')\n",
        "###"
      ]
    },
    {
      "cell_type": "code",
      "execution_count": 36,
      "metadata": {
        "id": "wsLaY_zsCml8"
      },
      "outputs": [],
      "source": [
        "### Imputador de Variables Numéricas -- strategy -> Median\n",
        "numerical_imputer = SimpleImputer(missing_values=np.nan, strategy='mean')\n",
        "###"
      ]
    },
    {
      "cell_type": "code",
      "execution_count": 37,
      "metadata": {
        "id": "QHqjtUnOCmol"
      },
      "outputs": [
        {
          "data": {
            "text/plain": [
              "SimpleImputer(strategy='most_frequent')"
            ]
          },
          "execution_count": 37,
          "metadata": {},
          "output_type": "execute_result"
        }
      ],
      "source": [
        "categorical_imputer.fit(X_train[categorical_columns])"
      ]
    },
    {
      "cell_type": "code",
      "execution_count": 38,
      "metadata": {
        "id": "a4cuvASgDib2"
      },
      "outputs": [
        {
          "data": {
            "text/plain": [
              "SimpleImputer()"
            ]
          },
          "execution_count": 38,
          "metadata": {},
          "output_type": "execute_result"
        }
      ],
      "source": [
        "numerical_imputer.fit(X_train[numerical_columns])"
      ]
    },
    {
      "cell_type": "code",
      "execution_count": 39,
      "metadata": {
        "id": "-6PF_RpWJTEy"
      },
      "outputs": [],
      "source": [
        "# Utilice los imputers para inputar valores faltantes tanto en train como en test\n",
        "\n",
        "###\n",
        "X_train[categorical_columns] = categorical_imputer.transform(X_train[categorical_columns])\n",
        "X_test[categorical_columns] = categorical_imputer.transform(X_test[categorical_columns])\n",
        "\n",
        "X_train[numerical_columns] = numerical_imputer.transform(X_train[numerical_columns])\n",
        "X_test[numerical_columns] = numerical_imputer.transform(X_test[numerical_columns])\n",
        "###"
      ]
    },
    {
      "cell_type": "code",
      "execution_count": 40,
      "metadata": {
        "id": "jxwxH_DRJTHq"
      },
      "outputs": [
        {
          "data": {
            "text/html": [
              "<div>\n",
              "<style scoped>\n",
              "    .dataframe tbody tr th:only-of-type {\n",
              "        vertical-align: middle;\n",
              "    }\n",
              "\n",
              "    .dataframe tbody tr th {\n",
              "        vertical-align: top;\n",
              "    }\n",
              "\n",
              "    .dataframe thead th {\n",
              "        text-align: right;\n",
              "    }\n",
              "</style>\n",
              "<table border=\"1\" class=\"dataframe\">\n",
              "  <thead>\n",
              "    <tr style=\"text-align: right;\">\n",
              "      <th></th>\n",
              "      <th>0</th>\n",
              "    </tr>\n",
              "  </thead>\n",
              "  <tbody>\n",
              "    <tr>\n",
              "      <th>Program.Code</th>\n",
              "      <td>0.0</td>\n",
              "    </tr>\n",
              "    <tr>\n",
              "      <th>From.Grade</th>\n",
              "      <td>0.0</td>\n",
              "    </tr>\n",
              "    <tr>\n",
              "      <th>To.Grade</th>\n",
              "      <td>0.0</td>\n",
              "    </tr>\n",
              "    <tr>\n",
              "      <th>Group.State</th>\n",
              "      <td>0.0</td>\n",
              "    </tr>\n",
              "    <tr>\n",
              "      <th>Is.Non.Annual.</th>\n",
              "      <td>0.0</td>\n",
              "    </tr>\n",
              "    <tr>\n",
              "      <th>Days</th>\n",
              "      <td>0.0</td>\n",
              "    </tr>\n",
              "    <tr>\n",
              "      <th>Travel.Type</th>\n",
              "      <td>0.0</td>\n",
              "    </tr>\n",
              "    <tr>\n",
              "      <th>Special.Pay</th>\n",
              "      <td>0.0</td>\n",
              "    </tr>\n",
              "    <tr>\n",
              "      <th>Tuition</th>\n",
              "      <td>0.0</td>\n",
              "    </tr>\n",
              "    <tr>\n",
              "      <th>FRP.Active</th>\n",
              "      <td>0.0</td>\n",
              "    </tr>\n",
              "    <tr>\n",
              "      <th>FRP.Cancelled</th>\n",
              "      <td>0.0</td>\n",
              "    </tr>\n",
              "    <tr>\n",
              "      <th>FRP.Take.up.percent.</th>\n",
              "      <td>0.0</td>\n",
              "    </tr>\n",
              "    <tr>\n",
              "      <th>Cancelled.Pax</th>\n",
              "      <td>0.0</td>\n",
              "    </tr>\n",
              "    <tr>\n",
              "      <th>Total.Discount.Pax</th>\n",
              "      <td>0.0</td>\n",
              "    </tr>\n",
              "    <tr>\n",
              "      <th>Poverty.Code</th>\n",
              "      <td>0.0</td>\n",
              "    </tr>\n",
              "    <tr>\n",
              "      <th>Region</th>\n",
              "      <td>0.0</td>\n",
              "    </tr>\n",
              "    <tr>\n",
              "      <th>CRM.Segment</th>\n",
              "      <td>0.0</td>\n",
              "    </tr>\n",
              "    <tr>\n",
              "      <th>School.Type</th>\n",
              "      <td>0.0</td>\n",
              "    </tr>\n",
              "    <tr>\n",
              "      <th>Parent.Meeting.Flag</th>\n",
              "      <td>0.0</td>\n",
              "    </tr>\n",
              "    <tr>\n",
              "      <th>MDR.Low.Grade</th>\n",
              "      <td>0.0</td>\n",
              "    </tr>\n",
              "    <tr>\n",
              "      <th>MDR.High.Grade</th>\n",
              "      <td>0.0</td>\n",
              "    </tr>\n",
              "    <tr>\n",
              "      <th>Total.School.Enrollment</th>\n",
              "      <td>0.0</td>\n",
              "    </tr>\n",
              "    <tr>\n",
              "      <th>Income.Level</th>\n",
              "      <td>0.0</td>\n",
              "    </tr>\n",
              "    <tr>\n",
              "      <th>EZ.Pay.Take.Up.Rate</th>\n",
              "      <td>0.0</td>\n",
              "    </tr>\n",
              "    <tr>\n",
              "      <th>School.Sponsor</th>\n",
              "      <td>0.0</td>\n",
              "    </tr>\n",
              "    <tr>\n",
              "      <th>SPR.Product.Type</th>\n",
              "      <td>0.0</td>\n",
              "    </tr>\n",
              "    <tr>\n",
              "      <th>SPR.New.Existing</th>\n",
              "      <td>0.0</td>\n",
              "    </tr>\n",
              "    <tr>\n",
              "      <th>FPP</th>\n",
              "      <td>0.0</td>\n",
              "    </tr>\n",
              "    <tr>\n",
              "      <th>Total.Pax</th>\n",
              "      <td>0.0</td>\n",
              "    </tr>\n",
              "    <tr>\n",
              "      <th>SPR.Group.Revenue</th>\n",
              "      <td>0.0</td>\n",
              "    </tr>\n",
              "    <tr>\n",
              "      <th>NumberOfMeetingswithParents</th>\n",
              "      <td>0.0</td>\n",
              "    </tr>\n",
              "    <tr>\n",
              "      <th>DifferenceTraveltoFirstMeeting</th>\n",
              "      <td>0.0</td>\n",
              "    </tr>\n",
              "    <tr>\n",
              "      <th>DifferenceTraveltoLastMeeting</th>\n",
              "      <td>0.0</td>\n",
              "    </tr>\n",
              "    <tr>\n",
              "      <th>SchoolGradeTypeLow</th>\n",
              "      <td>0.0</td>\n",
              "    </tr>\n",
              "    <tr>\n",
              "      <th>SchoolGradeTypeHigh</th>\n",
              "      <td>0.0</td>\n",
              "    </tr>\n",
              "    <tr>\n",
              "      <th>SchoolGradeType</th>\n",
              "      <td>0.0</td>\n",
              "    </tr>\n",
              "    <tr>\n",
              "      <th>DepartureMonth</th>\n",
              "      <td>0.0</td>\n",
              "    </tr>\n",
              "    <tr>\n",
              "      <th>GroupGradeTypeLow</th>\n",
              "      <td>0.0</td>\n",
              "    </tr>\n",
              "    <tr>\n",
              "      <th>GroupGradeTypeHigh</th>\n",
              "      <td>0.0</td>\n",
              "    </tr>\n",
              "    <tr>\n",
              "      <th>GroupGradeType</th>\n",
              "      <td>0.0</td>\n",
              "    </tr>\n",
              "    <tr>\n",
              "      <th>MajorProgramCode</th>\n",
              "      <td>0.0</td>\n",
              "    </tr>\n",
              "    <tr>\n",
              "      <th>SingleGradeTripFlag</th>\n",
              "      <td>0.0</td>\n",
              "    </tr>\n",
              "    <tr>\n",
              "      <th>FPP.to.School.enrollment</th>\n",
              "      <td>0.0</td>\n",
              "    </tr>\n",
              "    <tr>\n",
              "      <th>FPP.to.PAX</th>\n",
              "      <td>0.0</td>\n",
              "    </tr>\n",
              "    <tr>\n",
              "      <th>Num.of.Non_FPP.PAX</th>\n",
              "      <td>0.0</td>\n",
              "    </tr>\n",
              "    <tr>\n",
              "      <th>SchoolSizeIndicator</th>\n",
              "      <td>0.0</td>\n",
              "    </tr>\n",
              "  </tbody>\n",
              "</table>\n",
              "</div>"
            ],
            "text/plain": [
              "                                  0\n",
              "Program.Code                    0.0\n",
              "From.Grade                      0.0\n",
              "To.Grade                        0.0\n",
              "Group.State                     0.0\n",
              "Is.Non.Annual.                  0.0\n",
              "Days                            0.0\n",
              "Travel.Type                     0.0\n",
              "Special.Pay                     0.0\n",
              "Tuition                         0.0\n",
              "FRP.Active                      0.0\n",
              "FRP.Cancelled                   0.0\n",
              "FRP.Take.up.percent.            0.0\n",
              "Cancelled.Pax                   0.0\n",
              "Total.Discount.Pax              0.0\n",
              "Poverty.Code                    0.0\n",
              "Region                          0.0\n",
              "CRM.Segment                     0.0\n",
              "School.Type                     0.0\n",
              "Parent.Meeting.Flag             0.0\n",
              "MDR.Low.Grade                   0.0\n",
              "MDR.High.Grade                  0.0\n",
              "Total.School.Enrollment         0.0\n",
              "Income.Level                    0.0\n",
              "EZ.Pay.Take.Up.Rate             0.0\n",
              "School.Sponsor                  0.0\n",
              "SPR.Product.Type                0.0\n",
              "SPR.New.Existing                0.0\n",
              "FPP                             0.0\n",
              "Total.Pax                       0.0\n",
              "SPR.Group.Revenue               0.0\n",
              "NumberOfMeetingswithParents     0.0\n",
              "DifferenceTraveltoFirstMeeting  0.0\n",
              "DifferenceTraveltoLastMeeting   0.0\n",
              "SchoolGradeTypeLow              0.0\n",
              "SchoolGradeTypeHigh             0.0\n",
              "SchoolGradeType                 0.0\n",
              "DepartureMonth                  0.0\n",
              "GroupGradeTypeLow               0.0\n",
              "GroupGradeTypeHigh              0.0\n",
              "GroupGradeType                  0.0\n",
              "MajorProgramCode                0.0\n",
              "SingleGradeTripFlag             0.0\n",
              "FPP.to.School.enrollment        0.0\n",
              "FPP.to.PAX                      0.0\n",
              "Num.of.Non_FPP.PAX              0.0\n",
              "SchoolSizeIndicator             0.0"
            ]
          },
          "execution_count": 40,
          "metadata": {},
          "output_type": "execute_result"
        }
      ],
      "source": [
        "# Verifique que efectivamente no tenga valores faltantes\n",
        "\n",
        "###\n",
        "pd.DataFrame(X_train.isna().sum()/len(X_train))\n",
        "\n",
        "###"
      ]
    },
    {
      "cell_type": "markdown",
      "metadata": {
        "id": "qv6k4Sz_KsJi"
      },
      "source": [
        "## Revisión Categorías\n",
        "\n",
        "En la base de datos existe un gran número de variables categóricas. Se debe decidir de qué manera codificar la información (si requiere) para que el modelo pueda utilizarla. \n",
        "\n",
        "En principio, note que hay variables en las que hay categorías con pocas observaciones. Por ejemplo, la variable `From.Grade` tiene los siguientes conteos:\n",
        "\n",
        "\n",
        "|               |   From.Grade |\n",
        "|:--------------|-------------:|\n",
        "| 8.0           |          786 |\n",
        "| 7.0           |          365 |\n",
        "| 6.0           |          159 |\n",
        "| 4.0           |          109 |\n",
        "| missing_value |           91 |\n",
        "| 5.0           |           67 |\n",
        "| 9.0           |           47 |\n",
        "| 11.0          |           19 |\n",
        "| 10.0          |           19 |\n",
        "| 12.0          |            5 |\n",
        "| 3.0           |            5 |\n",
        "\n",
        "Se puede apreciar que la categoría 3 y 12 tienen 5 observaciones. Lo ideal es agrupar las categorías que tienen menos observaciones en una nueva categoría como \"Otra\"."
      ]
    },
    {
      "cell_type": "code",
      "execution_count": 41,
      "metadata": {
        "id": "dzctQMDeJTKx"
      },
      "outputs": [],
      "source": [
        "for column in categorical_columns:\n",
        "  categorical_counts = pd.value_counts(X_train[column])\n",
        "  grouper = (categorical_counts/categorical_counts.sum() * 100).lt(2) # Selecciona aquellas con < 2% de observaciones\n",
        "  X_train[column] = np.where(X_train[column].isin(categorical_counts[grouper].index),'Otra',X_train[column]) # Reemplaza en columna original\n",
        "  X_test[column] = np.where(X_test[column].isin(categorical_counts[grouper].index),'Otra',X_test[column])"
      ]
    },
    {
      "cell_type": "code",
      "execution_count": 42,
      "metadata": {
        "id": "wC_EvFXhMTtI"
      },
      "outputs": [
        {
          "data": {
            "text/plain": [
              "8.0     877\n",
              "7.0     365\n",
              "6.0     159\n",
              "4.0     109\n",
              "5.0      67\n",
              "Otra     48\n",
              "9.0      47\n",
              "Name: From.Grade, dtype: int64"
            ]
          },
          "execution_count": 42,
          "metadata": {},
          "output_type": "execute_result"
        }
      ],
      "source": [
        "X_train['From.Grade'].value_counts()"
      ]
    },
    {
      "cell_type": "markdown",
      "metadata": {
        "id": "WooTXi2XMrBW"
      },
      "source": [
        "## Variables Dummies\n",
        "\n",
        "Algunas de las variables categóricas necesitan ser codificadas para poder entrar al modelo. Particularmente aquellas categorías que no son ordinales, como los estados donde se ubican los colegios. Por esta razón, utilizaremos One-Hot Encoding, para volver una variable categórica en un conjunto de variables binarias.\n",
        "\n",
        "Utilice el método [`pd.get_dummies`](https://pandas.pydata.org/docs/reference/api/pandas.get_dummies.html) para extraer las dummies de variables categóricas.\n",
        "\n",
        "\n",
        "<div class=\"alert alert-block alert-danger\">\n",
        "<b>Cuidado:</b> Utilizar un número excesivo de variables dummies puede afectar negativamente el desempeño del modelo.\n",
        "</div>"
      ]
    },
    {
      "cell_type": "code",
      "execution_count": 43,
      "metadata": {},
      "outputs": [
        {
          "data": {
            "text/html": [
              "<div>\n",
              "<style scoped>\n",
              "    .dataframe tbody tr th:only-of-type {\n",
              "        vertical-align: middle;\n",
              "    }\n",
              "\n",
              "    .dataframe tbody tr th {\n",
              "        vertical-align: top;\n",
              "    }\n",
              "\n",
              "    .dataframe thead th {\n",
              "        text-align: right;\n",
              "    }\n",
              "</style>\n",
              "<table border=\"1\" class=\"dataframe\">\n",
              "  <thead>\n",
              "    <tr style=\"text-align: right;\">\n",
              "      <th></th>\n",
              "      <th>Program.Code</th>\n",
              "      <th>From.Grade</th>\n",
              "      <th>To.Grade</th>\n",
              "      <th>Group.State</th>\n",
              "      <th>Is.Non.Annual.</th>\n",
              "      <th>Days</th>\n",
              "      <th>Travel.Type</th>\n",
              "      <th>Special.Pay</th>\n",
              "      <th>Tuition</th>\n",
              "      <th>FRP.Active</th>\n",
              "      <th>...</th>\n",
              "      <th>DepartureMonth</th>\n",
              "      <th>GroupGradeTypeLow</th>\n",
              "      <th>GroupGradeTypeHigh</th>\n",
              "      <th>GroupGradeType</th>\n",
              "      <th>MajorProgramCode</th>\n",
              "      <th>SingleGradeTripFlag</th>\n",
              "      <th>FPP.to.School.enrollment</th>\n",
              "      <th>FPP.to.PAX</th>\n",
              "      <th>Num.of.Non_FPP.PAX</th>\n",
              "      <th>SchoolSizeIndicator</th>\n",
              "    </tr>\n",
              "  </thead>\n",
              "  <tbody>\n",
              "    <tr>\n",
              "      <th>380</th>\n",
              "      <td>HD</td>\n",
              "      <td>7.0</td>\n",
              "      <td>8.0</td>\n",
              "      <td>WA</td>\n",
              "      <td>0.0</td>\n",
              "      <td>4.0</td>\n",
              "      <td>A</td>\n",
              "      <td>FR</td>\n",
              "      <td>1912.0</td>\n",
              "      <td>4.0</td>\n",
              "      <td>...</td>\n",
              "      <td>March</td>\n",
              "      <td>Middle</td>\n",
              "      <td>Middle</td>\n",
              "      <td>Middle-&gt;Middle</td>\n",
              "      <td>H</td>\n",
              "      <td>0</td>\n",
              "      <td>Otra</td>\n",
              "      <td>0.888889</td>\n",
              "      <td>1.0</td>\n",
              "      <td>M-L</td>\n",
              "    </tr>\n",
              "    <tr>\n",
              "      <th>226</th>\n",
              "      <td>HD</td>\n",
              "      <td>8.0</td>\n",
              "      <td>8.0</td>\n",
              "      <td>CO</td>\n",
              "      <td>0.0</td>\n",
              "      <td>4.0</td>\n",
              "      <td>A</td>\n",
              "      <td>FR</td>\n",
              "      <td>1539.0</td>\n",
              "      <td>7.0</td>\n",
              "      <td>...</td>\n",
              "      <td>March</td>\n",
              "      <td>Middle</td>\n",
              "      <td>Middle</td>\n",
              "      <td>Middle-&gt;Middle</td>\n",
              "      <td>H</td>\n",
              "      <td>1</td>\n",
              "      <td>Otra</td>\n",
              "      <td>0.875000</td>\n",
              "      <td>2.0</td>\n",
              "      <td>S</td>\n",
              "    </tr>\n",
              "    <tr>\n",
              "      <th>1073</th>\n",
              "      <td>HD</td>\n",
              "      <td>8.0</td>\n",
              "      <td>8.0</td>\n",
              "      <td>CA</td>\n",
              "      <td>0.0</td>\n",
              "      <td>7.0</td>\n",
              "      <td>A</td>\n",
              "      <td>FR</td>\n",
              "      <td>2754.0</td>\n",
              "      <td>19.0</td>\n",
              "      <td>...</td>\n",
              "      <td>May</td>\n",
              "      <td>PK</td>\n",
              "      <td>Middle</td>\n",
              "      <td>PK-&gt;Middle</td>\n",
              "      <td>H</td>\n",
              "      <td>1</td>\n",
              "      <td>Otra</td>\n",
              "      <td>0.945946</td>\n",
              "      <td>2.0</td>\n",
              "      <td>S</td>\n",
              "    </tr>\n",
              "    <tr>\n",
              "      <th>715</th>\n",
              "      <td>HC</td>\n",
              "      <td>8.0</td>\n",
              "      <td>8.0</td>\n",
              "      <td>CA</td>\n",
              "      <td>0.0</td>\n",
              "      <td>6.0</td>\n",
              "      <td>A</td>\n",
              "      <td>FR</td>\n",
              "      <td>2549.0</td>\n",
              "      <td>30.0</td>\n",
              "      <td>...</td>\n",
              "      <td>April</td>\n",
              "      <td>Middle</td>\n",
              "      <td>Middle</td>\n",
              "      <td>Middle-&gt;Middle</td>\n",
              "      <td>H</td>\n",
              "      <td>1</td>\n",
              "      <td>Otra</td>\n",
              "      <td>0.882353</td>\n",
              "      <td>6.0</td>\n",
              "      <td>L</td>\n",
              "    </tr>\n",
              "    <tr>\n",
              "      <th>1195</th>\n",
              "      <td>HD</td>\n",
              "      <td>8.0</td>\n",
              "      <td>8.0</td>\n",
              "      <td>OH</td>\n",
              "      <td>0.0</td>\n",
              "      <td>6.0</td>\n",
              "      <td>B</td>\n",
              "      <td>SA</td>\n",
              "      <td>869.0</td>\n",
              "      <td>0.0</td>\n",
              "      <td>...</td>\n",
              "      <td>May</td>\n",
              "      <td>Elementary</td>\n",
              "      <td>Middle</td>\n",
              "      <td>Elementary-&gt;Middle</td>\n",
              "      <td>H</td>\n",
              "      <td>1</td>\n",
              "      <td>Otra</td>\n",
              "      <td>0.912409</td>\n",
              "      <td>12.0</td>\n",
              "      <td>M-L</td>\n",
              "    </tr>\n",
              "  </tbody>\n",
              "</table>\n",
              "<p>5 rows × 46 columns</p>\n",
              "</div>"
            ],
            "text/plain": [
              "     Program.Code From.Grade To.Grade Group.State  Is.Non.Annual.  Days  \\\n",
              "380            HD        7.0      8.0          WA             0.0   4.0   \n",
              "226            HD        8.0      8.0          CO             0.0   4.0   \n",
              "1073           HD        8.0      8.0          CA             0.0   7.0   \n",
              "715            HC        8.0      8.0          CA             0.0   6.0   \n",
              "1195           HD        8.0      8.0          OH             0.0   6.0   \n",
              "\n",
              "     Travel.Type Special.Pay  Tuition  FRP.Active  ...  DepartureMonth  \\\n",
              "380            A          FR   1912.0         4.0  ...           March   \n",
              "226            A          FR   1539.0         7.0  ...           March   \n",
              "1073           A          FR   2754.0        19.0  ...             May   \n",
              "715            A          FR   2549.0        30.0  ...           April   \n",
              "1195           B          SA    869.0         0.0  ...             May   \n",
              "\n",
              "      GroupGradeTypeLow  GroupGradeTypeHigh      GroupGradeType  \\\n",
              "380              Middle              Middle      Middle->Middle   \n",
              "226              Middle              Middle      Middle->Middle   \n",
              "1073                 PK              Middle          PK->Middle   \n",
              "715              Middle              Middle      Middle->Middle   \n",
              "1195         Elementary              Middle  Elementary->Middle   \n",
              "\n",
              "     MajorProgramCode SingleGradeTripFlag FPP.to.School.enrollment FPP.to.PAX  \\\n",
              "380                 H                   0                     Otra   0.888889   \n",
              "226                 H                   1                     Otra   0.875000   \n",
              "1073                H                   1                     Otra   0.945946   \n",
              "715                 H                   1                     Otra   0.882353   \n",
              "1195                H                   1                     Otra   0.912409   \n",
              "\n",
              "     Num.of.Non_FPP.PAX SchoolSizeIndicator  \n",
              "380                 1.0                 M-L  \n",
              "226                 2.0                   S  \n",
              "1073                2.0                   S  \n",
              "715                 6.0                   L  \n",
              "1195               12.0                 M-L  \n",
              "\n",
              "[5 rows x 46 columns]"
            ]
          },
          "execution_count": 43,
          "metadata": {},
          "output_type": "execute_result"
        }
      ],
      "source": [
        "X_train.head()"
      ]
    },
    {
      "cell_type": "code",
      "execution_count": 44,
      "metadata": {},
      "outputs": [
        {
          "name": "stderr",
          "output_type": "stream",
          "text": [
            "c:\\Users\\leonardo.garcia\\Anaconda3\\lib\\site-packages\\pandas\\core\\algorithms.py:798: FutureWarning: In a future version, the Index constructor will not infer numeric dtypes when passed object-dtype sequences (matching Series behavior)\n",
            "  uniques = Index(uniques)\n"
          ]
        },
        {
          "data": {
            "text/html": [
              "<div>\n",
              "<style scoped>\n",
              "    .dataframe tbody tr th:only-of-type {\n",
              "        vertical-align: middle;\n",
              "    }\n",
              "\n",
              "    .dataframe tbody tr th {\n",
              "        vertical-align: top;\n",
              "    }\n",
              "\n",
              "    .dataframe thead th {\n",
              "        text-align: right;\n",
              "    }\n",
              "</style>\n",
              "<table border=\"1\" class=\"dataframe\">\n",
              "  <thead>\n",
              "    <tr style=\"text-align: right;\">\n",
              "      <th></th>\n",
              "      <th>Program.Code_CD</th>\n",
              "      <th>Program.Code_HC</th>\n",
              "      <th>Program.Code_HD</th>\n",
              "      <th>Program.Code_HN</th>\n",
              "      <th>Program.Code_HS</th>\n",
              "      <th>Program.Code_HVP</th>\n",
              "      <th>Program.Code_Otra</th>\n",
              "      <th>Program.Code_SC</th>\n",
              "      <th>Program.Code_SK</th>\n",
              "      <th>From.Grade_4.0</th>\n",
              "      <th>...</th>\n",
              "      <th>MajorProgramCode_Otra</th>\n",
              "      <th>MajorProgramCode_S</th>\n",
              "      <th>SingleGradeTripFlag_0</th>\n",
              "      <th>SingleGradeTripFlag_1</th>\n",
              "      <th>FPP.to.School.enrollment_0.1</th>\n",
              "      <th>FPP.to.School.enrollment_Otra</th>\n",
              "      <th>SchoolSizeIndicator_L</th>\n",
              "      <th>SchoolSizeIndicator_M-L</th>\n",
              "      <th>SchoolSizeIndicator_S</th>\n",
              "      <th>SchoolSizeIndicator_S-M</th>\n",
              "    </tr>\n",
              "  </thead>\n",
              "  <tbody>\n",
              "    <tr>\n",
              "      <th>380</th>\n",
              "      <td>0</td>\n",
              "      <td>0</td>\n",
              "      <td>1</td>\n",
              "      <td>0</td>\n",
              "      <td>0</td>\n",
              "      <td>0</td>\n",
              "      <td>0</td>\n",
              "      <td>0</td>\n",
              "      <td>0</td>\n",
              "      <td>0</td>\n",
              "      <td>...</td>\n",
              "      <td>0</td>\n",
              "      <td>0</td>\n",
              "      <td>1</td>\n",
              "      <td>0</td>\n",
              "      <td>0</td>\n",
              "      <td>1</td>\n",
              "      <td>0</td>\n",
              "      <td>1</td>\n",
              "      <td>0</td>\n",
              "      <td>0</td>\n",
              "    </tr>\n",
              "    <tr>\n",
              "      <th>226</th>\n",
              "      <td>0</td>\n",
              "      <td>0</td>\n",
              "      <td>1</td>\n",
              "      <td>0</td>\n",
              "      <td>0</td>\n",
              "      <td>0</td>\n",
              "      <td>0</td>\n",
              "      <td>0</td>\n",
              "      <td>0</td>\n",
              "      <td>0</td>\n",
              "      <td>...</td>\n",
              "      <td>0</td>\n",
              "      <td>0</td>\n",
              "      <td>0</td>\n",
              "      <td>1</td>\n",
              "      <td>0</td>\n",
              "      <td>1</td>\n",
              "      <td>0</td>\n",
              "      <td>0</td>\n",
              "      <td>1</td>\n",
              "      <td>0</td>\n",
              "    </tr>\n",
              "    <tr>\n",
              "      <th>1073</th>\n",
              "      <td>0</td>\n",
              "      <td>0</td>\n",
              "      <td>1</td>\n",
              "      <td>0</td>\n",
              "      <td>0</td>\n",
              "      <td>0</td>\n",
              "      <td>0</td>\n",
              "      <td>0</td>\n",
              "      <td>0</td>\n",
              "      <td>0</td>\n",
              "      <td>...</td>\n",
              "      <td>0</td>\n",
              "      <td>0</td>\n",
              "      <td>0</td>\n",
              "      <td>1</td>\n",
              "      <td>0</td>\n",
              "      <td>1</td>\n",
              "      <td>0</td>\n",
              "      <td>0</td>\n",
              "      <td>1</td>\n",
              "      <td>0</td>\n",
              "    </tr>\n",
              "    <tr>\n",
              "      <th>715</th>\n",
              "      <td>0</td>\n",
              "      <td>1</td>\n",
              "      <td>0</td>\n",
              "      <td>0</td>\n",
              "      <td>0</td>\n",
              "      <td>0</td>\n",
              "      <td>0</td>\n",
              "      <td>0</td>\n",
              "      <td>0</td>\n",
              "      <td>0</td>\n",
              "      <td>...</td>\n",
              "      <td>0</td>\n",
              "      <td>0</td>\n",
              "      <td>0</td>\n",
              "      <td>1</td>\n",
              "      <td>0</td>\n",
              "      <td>1</td>\n",
              "      <td>1</td>\n",
              "      <td>0</td>\n",
              "      <td>0</td>\n",
              "      <td>0</td>\n",
              "    </tr>\n",
              "    <tr>\n",
              "      <th>1195</th>\n",
              "      <td>0</td>\n",
              "      <td>0</td>\n",
              "      <td>1</td>\n",
              "      <td>0</td>\n",
              "      <td>0</td>\n",
              "      <td>0</td>\n",
              "      <td>0</td>\n",
              "      <td>0</td>\n",
              "      <td>0</td>\n",
              "      <td>0</td>\n",
              "      <td>...</td>\n",
              "      <td>0</td>\n",
              "      <td>0</td>\n",
              "      <td>0</td>\n",
              "      <td>1</td>\n",
              "      <td>0</td>\n",
              "      <td>1</td>\n",
              "      <td>0</td>\n",
              "      <td>1</td>\n",
              "      <td>0</td>\n",
              "      <td>0</td>\n",
              "    </tr>\n",
              "    <tr>\n",
              "      <th>...</th>\n",
              "      <td>...</td>\n",
              "      <td>...</td>\n",
              "      <td>...</td>\n",
              "      <td>...</td>\n",
              "      <td>...</td>\n",
              "      <td>...</td>\n",
              "      <td>...</td>\n",
              "      <td>...</td>\n",
              "      <td>...</td>\n",
              "      <td>...</td>\n",
              "      <td>...</td>\n",
              "      <td>...</td>\n",
              "      <td>...</td>\n",
              "      <td>...</td>\n",
              "      <td>...</td>\n",
              "      <td>...</td>\n",
              "      <td>...</td>\n",
              "      <td>...</td>\n",
              "      <td>...</td>\n",
              "      <td>...</td>\n",
              "      <td>...</td>\n",
              "    </tr>\n",
              "    <tr>\n",
              "      <th>1638</th>\n",
              "      <td>0</td>\n",
              "      <td>0</td>\n",
              "      <td>1</td>\n",
              "      <td>0</td>\n",
              "      <td>0</td>\n",
              "      <td>0</td>\n",
              "      <td>0</td>\n",
              "      <td>0</td>\n",
              "      <td>0</td>\n",
              "      <td>0</td>\n",
              "      <td>...</td>\n",
              "      <td>0</td>\n",
              "      <td>0</td>\n",
              "      <td>0</td>\n",
              "      <td>1</td>\n",
              "      <td>0</td>\n",
              "      <td>1</td>\n",
              "      <td>0</td>\n",
              "      <td>0</td>\n",
              "      <td>0</td>\n",
              "      <td>1</td>\n",
              "    </tr>\n",
              "    <tr>\n",
              "      <th>1095</th>\n",
              "      <td>0</td>\n",
              "      <td>1</td>\n",
              "      <td>0</td>\n",
              "      <td>0</td>\n",
              "      <td>0</td>\n",
              "      <td>0</td>\n",
              "      <td>0</td>\n",
              "      <td>0</td>\n",
              "      <td>0</td>\n",
              "      <td>0</td>\n",
              "      <td>...</td>\n",
              "      <td>0</td>\n",
              "      <td>0</td>\n",
              "      <td>0</td>\n",
              "      <td>1</td>\n",
              "      <td>0</td>\n",
              "      <td>1</td>\n",
              "      <td>1</td>\n",
              "      <td>0</td>\n",
              "      <td>0</td>\n",
              "      <td>0</td>\n",
              "    </tr>\n",
              "    <tr>\n",
              "      <th>1130</th>\n",
              "      <td>0</td>\n",
              "      <td>0</td>\n",
              "      <td>0</td>\n",
              "      <td>0</td>\n",
              "      <td>1</td>\n",
              "      <td>0</td>\n",
              "      <td>0</td>\n",
              "      <td>0</td>\n",
              "      <td>0</td>\n",
              "      <td>1</td>\n",
              "      <td>...</td>\n",
              "      <td>0</td>\n",
              "      <td>0</td>\n",
              "      <td>0</td>\n",
              "      <td>1</td>\n",
              "      <td>0</td>\n",
              "      <td>1</td>\n",
              "      <td>0</td>\n",
              "      <td>0</td>\n",
              "      <td>0</td>\n",
              "      <td>1</td>\n",
              "    </tr>\n",
              "    <tr>\n",
              "      <th>1294</th>\n",
              "      <td>0</td>\n",
              "      <td>1</td>\n",
              "      <td>0</td>\n",
              "      <td>0</td>\n",
              "      <td>0</td>\n",
              "      <td>0</td>\n",
              "      <td>0</td>\n",
              "      <td>0</td>\n",
              "      <td>0</td>\n",
              "      <td>0</td>\n",
              "      <td>...</td>\n",
              "      <td>0</td>\n",
              "      <td>0</td>\n",
              "      <td>0</td>\n",
              "      <td>1</td>\n",
              "      <td>0</td>\n",
              "      <td>1</td>\n",
              "      <td>0</td>\n",
              "      <td>1</td>\n",
              "      <td>0</td>\n",
              "      <td>0</td>\n",
              "    </tr>\n",
              "    <tr>\n",
              "      <th>860</th>\n",
              "      <td>0</td>\n",
              "      <td>0</td>\n",
              "      <td>1</td>\n",
              "      <td>0</td>\n",
              "      <td>0</td>\n",
              "      <td>0</td>\n",
              "      <td>0</td>\n",
              "      <td>0</td>\n",
              "      <td>0</td>\n",
              "      <td>0</td>\n",
              "      <td>...</td>\n",
              "      <td>0</td>\n",
              "      <td>0</td>\n",
              "      <td>0</td>\n",
              "      <td>1</td>\n",
              "      <td>0</td>\n",
              "      <td>1</td>\n",
              "      <td>0</td>\n",
              "      <td>1</td>\n",
              "      <td>0</td>\n",
              "      <td>0</td>\n",
              "    </tr>\n",
              "  </tbody>\n",
              "</table>\n",
              "<p>1672 rows × 157 columns</p>\n",
              "</div>"
            ],
            "text/plain": [
              "      Program.Code_CD  Program.Code_HC  Program.Code_HD  Program.Code_HN  \\\n",
              "380                 0                0                1                0   \n",
              "226                 0                0                1                0   \n",
              "1073                0                0                1                0   \n",
              "715                 0                1                0                0   \n",
              "1195                0                0                1                0   \n",
              "...               ...              ...              ...              ...   \n",
              "1638                0                0                1                0   \n",
              "1095                0                1                0                0   \n",
              "1130                0                0                0                0   \n",
              "1294                0                1                0                0   \n",
              "860                 0                0                1                0   \n",
              "\n",
              "      Program.Code_HS  Program.Code_HVP  Program.Code_Otra  Program.Code_SC  \\\n",
              "380                 0                 0                  0                0   \n",
              "226                 0                 0                  0                0   \n",
              "1073                0                 0                  0                0   \n",
              "715                 0                 0                  0                0   \n",
              "1195                0                 0                  0                0   \n",
              "...               ...               ...                ...              ...   \n",
              "1638                0                 0                  0                0   \n",
              "1095                0                 0                  0                0   \n",
              "1130                1                 0                  0                0   \n",
              "1294                0                 0                  0                0   \n",
              "860                 0                 0                  0                0   \n",
              "\n",
              "      Program.Code_SK  From.Grade_4.0  ...  MajorProgramCode_Otra  \\\n",
              "380                 0               0  ...                      0   \n",
              "226                 0               0  ...                      0   \n",
              "1073                0               0  ...                      0   \n",
              "715                 0               0  ...                      0   \n",
              "1195                0               0  ...                      0   \n",
              "...               ...             ...  ...                    ...   \n",
              "1638                0               0  ...                      0   \n",
              "1095                0               0  ...                      0   \n",
              "1130                0               1  ...                      0   \n",
              "1294                0               0  ...                      0   \n",
              "860                 0               0  ...                      0   \n",
              "\n",
              "      MajorProgramCode_S  SingleGradeTripFlag_0  SingleGradeTripFlag_1  \\\n",
              "380                    0                      1                      0   \n",
              "226                    0                      0                      1   \n",
              "1073                   0                      0                      1   \n",
              "715                    0                      0                      1   \n",
              "1195                   0                      0                      1   \n",
              "...                  ...                    ...                    ...   \n",
              "1638                   0                      0                      1   \n",
              "1095                   0                      0                      1   \n",
              "1130                   0                      0                      1   \n",
              "1294                   0                      0                      1   \n",
              "860                    0                      0                      1   \n",
              "\n",
              "      FPP.to.School.enrollment_0.1  FPP.to.School.enrollment_Otra  \\\n",
              "380                              0                              1   \n",
              "226                              0                              1   \n",
              "1073                             0                              1   \n",
              "715                              0                              1   \n",
              "1195                             0                              1   \n",
              "...                            ...                            ...   \n",
              "1638                             0                              1   \n",
              "1095                             0                              1   \n",
              "1130                             0                              1   \n",
              "1294                             0                              1   \n",
              "860                              0                              1   \n",
              "\n",
              "      SchoolSizeIndicator_L  SchoolSizeIndicator_M-L  SchoolSizeIndicator_S  \\\n",
              "380                       0                        1                      0   \n",
              "226                       0                        0                      1   \n",
              "1073                      0                        0                      1   \n",
              "715                       1                        0                      0   \n",
              "1195                      0                        1                      0   \n",
              "...                     ...                      ...                    ...   \n",
              "1638                      0                        0                      0   \n",
              "1095                      1                        0                      0   \n",
              "1130                      0                        0                      0   \n",
              "1294                      0                        1                      0   \n",
              "860                       0                        1                      0   \n",
              "\n",
              "      SchoolSizeIndicator_S-M  \n",
              "380                         0  \n",
              "226                         0  \n",
              "1073                        0  \n",
              "715                         0  \n",
              "1195                        0  \n",
              "...                       ...  \n",
              "1638                        1  \n",
              "1095                        0  \n",
              "1130                        1  \n",
              "1294                        0  \n",
              "860                         0  \n",
              "\n",
              "[1672 rows x 157 columns]"
            ]
          },
          "execution_count": 44,
          "metadata": {},
          "output_type": "execute_result"
        }
      ],
      "source": [
        "pd.get_dummies(X_train[categorical_columns])"
      ]
    },
    {
      "cell_type": "code",
      "execution_count": 45,
      "metadata": {
        "id": "eX5HdfSSOASD"
      },
      "outputs": [
        {
          "name": "stderr",
          "output_type": "stream",
          "text": [
            "c:\\Users\\leonardo.garcia\\Anaconda3\\lib\\site-packages\\pandas\\core\\algorithms.py:798: FutureWarning: In a future version, the Index constructor will not infer numeric dtypes when passed object-dtype sequences (matching Series behavior)\n",
            "  uniques = Index(uniques)\n",
            "c:\\Users\\leonardo.garcia\\Anaconda3\\lib\\site-packages\\pandas\\core\\algorithms.py:798: FutureWarning: In a future version, the Index constructor will not infer numeric dtypes when passed object-dtype sequences (matching Series behavior)\n",
            "  uniques = Index(uniques)\n"
          ]
        }
      ],
      "source": [
        "###\n",
        "X_train = pd.get_dummies(X_train)\n",
        "X_test = pd.get_dummies(X_test) # Pero igual debemos asegurarnos que no haya \"dummies de más\"\n",
        "###"
      ]
    },
    {
      "cell_type": "code",
      "execution_count": 46,
      "metadata": {
        "id": "wxFiNU2cRmsX"
      },
      "outputs": [],
      "source": [
        "X_train, X_test = X_train.align(X_test, fill_value = 0, axis = 1, join = 'left') # Alineamos datos para mantener mismas columnas"
      ]
    },
    {
      "cell_type": "code",
      "execution_count": 47,
      "metadata": {
        "id": "dssCAUwhOExB"
      },
      "outputs": [
        {
          "data": {
            "text/html": [
              "<div>\n",
              "<style scoped>\n",
              "    .dataframe tbody tr th:only-of-type {\n",
              "        vertical-align: middle;\n",
              "    }\n",
              "\n",
              "    .dataframe tbody tr th {\n",
              "        vertical-align: top;\n",
              "    }\n",
              "\n",
              "    .dataframe thead th {\n",
              "        text-align: right;\n",
              "    }\n",
              "</style>\n",
              "<table border=\"1\" class=\"dataframe\">\n",
              "  <thead>\n",
              "    <tr style=\"text-align: right;\">\n",
              "      <th></th>\n",
              "      <th>Is.Non.Annual.</th>\n",
              "      <th>Days</th>\n",
              "      <th>Tuition</th>\n",
              "      <th>FRP.Active</th>\n",
              "      <th>FRP.Cancelled</th>\n",
              "      <th>FRP.Take.up.percent.</th>\n",
              "      <th>Cancelled.Pax</th>\n",
              "      <th>Total.Discount.Pax</th>\n",
              "      <th>Total.School.Enrollment</th>\n",
              "      <th>EZ.Pay.Take.Up.Rate</th>\n",
              "      <th>...</th>\n",
              "      <th>MajorProgramCode_Otra</th>\n",
              "      <th>MajorProgramCode_S</th>\n",
              "      <th>SingleGradeTripFlag_0</th>\n",
              "      <th>SingleGradeTripFlag_1</th>\n",
              "      <th>FPP.to.School.enrollment_0.1</th>\n",
              "      <th>FPP.to.School.enrollment_Otra</th>\n",
              "      <th>SchoolSizeIndicator_L</th>\n",
              "      <th>SchoolSizeIndicator_M-L</th>\n",
              "      <th>SchoolSizeIndicator_S</th>\n",
              "      <th>SchoolSizeIndicator_S-M</th>\n",
              "    </tr>\n",
              "  </thead>\n",
              "  <tbody>\n",
              "    <tr>\n",
              "      <th>380</th>\n",
              "      <td>0.0</td>\n",
              "      <td>4.0</td>\n",
              "      <td>1912.0</td>\n",
              "      <td>4.0</td>\n",
              "      <td>1.0</td>\n",
              "      <td>0.500</td>\n",
              "      <td>1.0</td>\n",
              "      <td>1.0</td>\n",
              "      <td>772.0</td>\n",
              "      <td>0.750</td>\n",
              "      <td>...</td>\n",
              "      <td>0</td>\n",
              "      <td>0</td>\n",
              "      <td>1</td>\n",
              "      <td>0</td>\n",
              "      <td>0</td>\n",
              "      <td>1</td>\n",
              "      <td>0</td>\n",
              "      <td>1</td>\n",
              "      <td>0</td>\n",
              "      <td>0</td>\n",
              "    </tr>\n",
              "    <tr>\n",
              "      <th>226</th>\n",
              "      <td>0.0</td>\n",
              "      <td>4.0</td>\n",
              "      <td>1539.0</td>\n",
              "      <td>7.0</td>\n",
              "      <td>2.0</td>\n",
              "      <td>0.500</td>\n",
              "      <td>3.0</td>\n",
              "      <td>2.0</td>\n",
              "      <td>230.0</td>\n",
              "      <td>0.286</td>\n",
              "      <td>...</td>\n",
              "      <td>0</td>\n",
              "      <td>0</td>\n",
              "      <td>0</td>\n",
              "      <td>1</td>\n",
              "      <td>0</td>\n",
              "      <td>1</td>\n",
              "      <td>0</td>\n",
              "      <td>0</td>\n",
              "      <td>1</td>\n",
              "      <td>0</td>\n",
              "    </tr>\n",
              "    <tr>\n",
              "      <th>1073</th>\n",
              "      <td>0.0</td>\n",
              "      <td>7.0</td>\n",
              "      <td>2754.0</td>\n",
              "      <td>19.0</td>\n",
              "      <td>1.0</td>\n",
              "      <td>0.543</td>\n",
              "      <td>1.0</td>\n",
              "      <td>2.0</td>\n",
              "      <td>250.0</td>\n",
              "      <td>0.114</td>\n",
              "      <td>...</td>\n",
              "      <td>0</td>\n",
              "      <td>0</td>\n",
              "      <td>0</td>\n",
              "      <td>1</td>\n",
              "      <td>0</td>\n",
              "      <td>1</td>\n",
              "      <td>0</td>\n",
              "      <td>0</td>\n",
              "      <td>1</td>\n",
              "      <td>0</td>\n",
              "    </tr>\n",
              "    <tr>\n",
              "      <th>715</th>\n",
              "      <td>0.0</td>\n",
              "      <td>6.0</td>\n",
              "      <td>2549.0</td>\n",
              "      <td>30.0</td>\n",
              "      <td>5.0</td>\n",
              "      <td>0.667</td>\n",
              "      <td>3.0</td>\n",
              "      <td>6.0</td>\n",
              "      <td>1027.0</td>\n",
              "      <td>0.289</td>\n",
              "      <td>...</td>\n",
              "      <td>0</td>\n",
              "      <td>0</td>\n",
              "      <td>0</td>\n",
              "      <td>1</td>\n",
              "      <td>0</td>\n",
              "      <td>1</td>\n",
              "      <td>1</td>\n",
              "      <td>0</td>\n",
              "      <td>0</td>\n",
              "      <td>0</td>\n",
              "    </tr>\n",
              "    <tr>\n",
              "      <th>1195</th>\n",
              "      <td>0.0</td>\n",
              "      <td>6.0</td>\n",
              "      <td>869.0</td>\n",
              "      <td>0.0</td>\n",
              "      <td>0.0</td>\n",
              "      <td>0.000</td>\n",
              "      <td>9.0</td>\n",
              "      <td>12.0</td>\n",
              "      <td>790.0</td>\n",
              "      <td>0.000</td>\n",
              "      <td>...</td>\n",
              "      <td>0</td>\n",
              "      <td>0</td>\n",
              "      <td>0</td>\n",
              "      <td>1</td>\n",
              "      <td>0</td>\n",
              "      <td>1</td>\n",
              "      <td>0</td>\n",
              "      <td>1</td>\n",
              "      <td>0</td>\n",
              "      <td>0</td>\n",
              "    </tr>\n",
              "  </tbody>\n",
              "</table>\n",
              "<p>5 rows × 175 columns</p>\n",
              "</div>"
            ],
            "text/plain": [
              "      Is.Non.Annual.  Days  Tuition  FRP.Active  FRP.Cancelled  \\\n",
              "380              0.0   4.0   1912.0         4.0            1.0   \n",
              "226              0.0   4.0   1539.0         7.0            2.0   \n",
              "1073             0.0   7.0   2754.0        19.0            1.0   \n",
              "715              0.0   6.0   2549.0        30.0            5.0   \n",
              "1195             0.0   6.0    869.0         0.0            0.0   \n",
              "\n",
              "      FRP.Take.up.percent.  Cancelled.Pax  Total.Discount.Pax  \\\n",
              "380                  0.500            1.0                 1.0   \n",
              "226                  0.500            3.0                 2.0   \n",
              "1073                 0.543            1.0                 2.0   \n",
              "715                  0.667            3.0                 6.0   \n",
              "1195                 0.000            9.0                12.0   \n",
              "\n",
              "      Total.School.Enrollment  EZ.Pay.Take.Up.Rate  ...  \\\n",
              "380                     772.0                0.750  ...   \n",
              "226                     230.0                0.286  ...   \n",
              "1073                    250.0                0.114  ...   \n",
              "715                    1027.0                0.289  ...   \n",
              "1195                    790.0                0.000  ...   \n",
              "\n",
              "      MajorProgramCode_Otra  MajorProgramCode_S  SingleGradeTripFlag_0  \\\n",
              "380                       0                   0                      1   \n",
              "226                       0                   0                      0   \n",
              "1073                      0                   0                      0   \n",
              "715                       0                   0                      0   \n",
              "1195                      0                   0                      0   \n",
              "\n",
              "      SingleGradeTripFlag_1  FPP.to.School.enrollment_0.1  \\\n",
              "380                       0                             0   \n",
              "226                       1                             0   \n",
              "1073                      1                             0   \n",
              "715                       1                             0   \n",
              "1195                      1                             0   \n",
              "\n",
              "      FPP.to.School.enrollment_Otra  SchoolSizeIndicator_L  \\\n",
              "380                               1                      0   \n",
              "226                               1                      0   \n",
              "1073                              1                      0   \n",
              "715                               1                      1   \n",
              "1195                              1                      0   \n",
              "\n",
              "      SchoolSizeIndicator_M-L  SchoolSizeIndicator_S  SchoolSizeIndicator_S-M  \n",
              "380                         1                      0                        0  \n",
              "226                         0                      1                        0  \n",
              "1073                        0                      1                        0  \n",
              "715                         0                      0                        0  \n",
              "1195                        1                      0                        0  \n",
              "\n",
              "[5 rows x 175 columns]"
            ]
          },
          "execution_count": 47,
          "metadata": {},
          "output_type": "execute_result"
        }
      ],
      "source": [
        "X_train.head()"
      ]
    },
    {
      "cell_type": "code",
      "execution_count": 48,
      "metadata": {
        "id": "GMuGapauSGu-"
      },
      "outputs": [
        {
          "data": {
            "text/html": [
              "<div>\n",
              "<style scoped>\n",
              "    .dataframe tbody tr th:only-of-type {\n",
              "        vertical-align: middle;\n",
              "    }\n",
              "\n",
              "    .dataframe tbody tr th {\n",
              "        vertical-align: top;\n",
              "    }\n",
              "\n",
              "    .dataframe thead th {\n",
              "        text-align: right;\n",
              "    }\n",
              "</style>\n",
              "<table border=\"1\" class=\"dataframe\">\n",
              "  <thead>\n",
              "    <tr style=\"text-align: right;\">\n",
              "      <th></th>\n",
              "      <th>Is.Non.Annual.</th>\n",
              "      <th>Days</th>\n",
              "      <th>Tuition</th>\n",
              "      <th>FRP.Active</th>\n",
              "      <th>FRP.Cancelled</th>\n",
              "      <th>FRP.Take.up.percent.</th>\n",
              "      <th>Cancelled.Pax</th>\n",
              "      <th>Total.Discount.Pax</th>\n",
              "      <th>Total.School.Enrollment</th>\n",
              "      <th>EZ.Pay.Take.Up.Rate</th>\n",
              "      <th>...</th>\n",
              "      <th>MajorProgramCode_Otra</th>\n",
              "      <th>MajorProgramCode_S</th>\n",
              "      <th>SingleGradeTripFlag_0</th>\n",
              "      <th>SingleGradeTripFlag_1</th>\n",
              "      <th>FPP.to.School.enrollment_0.1</th>\n",
              "      <th>FPP.to.School.enrollment_Otra</th>\n",
              "      <th>SchoolSizeIndicator_L</th>\n",
              "      <th>SchoolSizeIndicator_M-L</th>\n",
              "      <th>SchoolSizeIndicator_S</th>\n",
              "      <th>SchoolSizeIndicator_S-M</th>\n",
              "    </tr>\n",
              "  </thead>\n",
              "  <tbody>\n",
              "    <tr>\n",
              "      <th>1320</th>\n",
              "      <td>0.0</td>\n",
              "      <td>1.0</td>\n",
              "      <td>384.0</td>\n",
              "      <td>19.0</td>\n",
              "      <td>1.0</td>\n",
              "      <td>0.475</td>\n",
              "      <td>3.0</td>\n",
              "      <td>2.0</td>\n",
              "      <td>407.0</td>\n",
              "      <td>0.200</td>\n",
              "      <td>...</td>\n",
              "      <td>0</td>\n",
              "      <td>0</td>\n",
              "      <td>0</td>\n",
              "      <td>1</td>\n",
              "      <td>0</td>\n",
              "      <td>0</td>\n",
              "      <td>0</td>\n",
              "      <td>0</td>\n",
              "      <td>0</td>\n",
              "      <td>1</td>\n",
              "    </tr>\n",
              "    <tr>\n",
              "      <th>1412</th>\n",
              "      <td>0.0</td>\n",
              "      <td>5.0</td>\n",
              "      <td>2117.0</td>\n",
              "      <td>14.0</td>\n",
              "      <td>2.0</td>\n",
              "      <td>0.667</td>\n",
              "      <td>0.0</td>\n",
              "      <td>2.0</td>\n",
              "      <td>184.0</td>\n",
              "      <td>0.286</td>\n",
              "      <td>...</td>\n",
              "      <td>0</td>\n",
              "      <td>0</td>\n",
              "      <td>0</td>\n",
              "      <td>1</td>\n",
              "      <td>0</td>\n",
              "      <td>1</td>\n",
              "      <td>0</td>\n",
              "      <td>0</td>\n",
              "      <td>1</td>\n",
              "      <td>0</td>\n",
              "    </tr>\n",
              "    <tr>\n",
              "      <th>530</th>\n",
              "      <td>0.0</td>\n",
              "      <td>5.0</td>\n",
              "      <td>736.0</td>\n",
              "      <td>29.0</td>\n",
              "      <td>6.0</td>\n",
              "      <td>0.460</td>\n",
              "      <td>4.0</td>\n",
              "      <td>4.0</td>\n",
              "      <td>500.0</td>\n",
              "      <td>0.111</td>\n",
              "      <td>...</td>\n",
              "      <td>0</td>\n",
              "      <td>0</td>\n",
              "      <td>0</td>\n",
              "      <td>1</td>\n",
              "      <td>0</td>\n",
              "      <td>0</td>\n",
              "      <td>0</td>\n",
              "      <td>0</td>\n",
              "      <td>0</td>\n",
              "      <td>1</td>\n",
              "    </tr>\n",
              "    <tr>\n",
              "      <th>554</th>\n",
              "      <td>0.0</td>\n",
              "      <td>5.0</td>\n",
              "      <td>1799.0</td>\n",
              "      <td>13.0</td>\n",
              "      <td>2.0</td>\n",
              "      <td>0.929</td>\n",
              "      <td>3.0</td>\n",
              "      <td>1.0</td>\n",
              "      <td>761.0</td>\n",
              "      <td>0.071</td>\n",
              "      <td>...</td>\n",
              "      <td>0</td>\n",
              "      <td>0</td>\n",
              "      <td>0</td>\n",
              "      <td>1</td>\n",
              "      <td>0</td>\n",
              "      <td>1</td>\n",
              "      <td>0</td>\n",
              "      <td>1</td>\n",
              "      <td>0</td>\n",
              "      <td>0</td>\n",
              "    </tr>\n",
              "    <tr>\n",
              "      <th>229</th>\n",
              "      <td>0.0</td>\n",
              "      <td>3.0</td>\n",
              "      <td>1058.0</td>\n",
              "      <td>19.0</td>\n",
              "      <td>1.0</td>\n",
              "      <td>0.704</td>\n",
              "      <td>1.0</td>\n",
              "      <td>5.0</td>\n",
              "      <td>334.0</td>\n",
              "      <td>0.185</td>\n",
              "      <td>...</td>\n",
              "      <td>0</td>\n",
              "      <td>0</td>\n",
              "      <td>1</td>\n",
              "      <td>0</td>\n",
              "      <td>0</td>\n",
              "      <td>0</td>\n",
              "      <td>0</td>\n",
              "      <td>0</td>\n",
              "      <td>1</td>\n",
              "      <td>0</td>\n",
              "    </tr>\n",
              "  </tbody>\n",
              "</table>\n",
              "<p>5 rows × 175 columns</p>\n",
              "</div>"
            ],
            "text/plain": [
              "      Is.Non.Annual.  Days  Tuition  FRP.Active  FRP.Cancelled  \\\n",
              "1320             0.0   1.0    384.0        19.0            1.0   \n",
              "1412             0.0   5.0   2117.0        14.0            2.0   \n",
              "530              0.0   5.0    736.0        29.0            6.0   \n",
              "554              0.0   5.0   1799.0        13.0            2.0   \n",
              "229              0.0   3.0   1058.0        19.0            1.0   \n",
              "\n",
              "      FRP.Take.up.percent.  Cancelled.Pax  Total.Discount.Pax  \\\n",
              "1320                 0.475            3.0                 2.0   \n",
              "1412                 0.667            0.0                 2.0   \n",
              "530                  0.460            4.0                 4.0   \n",
              "554                  0.929            3.0                 1.0   \n",
              "229                  0.704            1.0                 5.0   \n",
              "\n",
              "      Total.School.Enrollment  EZ.Pay.Take.Up.Rate  ...  \\\n",
              "1320                    407.0                0.200  ...   \n",
              "1412                    184.0                0.286  ...   \n",
              "530                     500.0                0.111  ...   \n",
              "554                     761.0                0.071  ...   \n",
              "229                     334.0                0.185  ...   \n",
              "\n",
              "      MajorProgramCode_Otra  MajorProgramCode_S  SingleGradeTripFlag_0  \\\n",
              "1320                      0                   0                      0   \n",
              "1412                      0                   0                      0   \n",
              "530                       0                   0                      0   \n",
              "554                       0                   0                      0   \n",
              "229                       0                   0                      1   \n",
              "\n",
              "      SingleGradeTripFlag_1  FPP.to.School.enrollment_0.1  \\\n",
              "1320                      1                             0   \n",
              "1412                      1                             0   \n",
              "530                       1                             0   \n",
              "554                       1                             0   \n",
              "229                       0                             0   \n",
              "\n",
              "      FPP.to.School.enrollment_Otra  SchoolSizeIndicator_L  \\\n",
              "1320                              0                      0   \n",
              "1412                              1                      0   \n",
              "530                               0                      0   \n",
              "554                               1                      0   \n",
              "229                               0                      0   \n",
              "\n",
              "      SchoolSizeIndicator_M-L  SchoolSizeIndicator_S  SchoolSizeIndicator_S-M  \n",
              "1320                        0                      0                        1  \n",
              "1412                        0                      1                        0  \n",
              "530                         0                      0                        1  \n",
              "554                         1                      0                        0  \n",
              "229                         0                      1                        0  \n",
              "\n",
              "[5 rows x 175 columns]"
            ]
          },
          "execution_count": 48,
          "metadata": {},
          "output_type": "execute_result"
        }
      ],
      "source": [
        "X_test.head()"
      ]
    },
    {
      "cell_type": "markdown",
      "metadata": {
        "id": "GfcKm0W6OPwp"
      },
      "source": [
        "En este punto, los datos de entrenamiento y prueba tienen las mismas características y están codificados de la misma forma basado en la información de entrenamiento. Con lo anterior, es posible entrenar los modelos que queramos para predicción."
      ]
    },
    {
      "cell_type": "markdown",
      "metadata": {
        "id": "0vSl0SQRTK0v"
      },
      "source": [
        "# Modelamiento\n",
        "\n",
        "En esta sección se realizará\n",
        "- Línea Base\n",
        "- Support Vector Machine"
      ]
    },
    {
      "cell_type": "markdown",
      "metadata": {
        "id": "_riubQOzxt-J"
      },
      "source": [
        "## Línea Base -- Sencilla\n",
        "\n",
        "Lo ideal al resolver un problema de Machine Learning es siempre tener una línea base de comparación. Usualmente se utiliza un modelo previo, alguna heurística,el modelo más sencillo al alcance o lo que hubiera hecho un humano. En este caso contamos con información de una variable binaria que podría ser un muy buen predictor de no reserva el siguiente año: \n",
        "\n",
        "> `Is.Non.Annual.`: Variable binaria que indica si el grupo suele saltarse un año entre programas de viaje. Aquellos que se suelen saltar el año, muy rara vez viajan el año siguiente. \n",
        "\n",
        "Utilice esta variable para construir una línea base de comparación."
      ]
    },
    {
      "cell_type": "code",
      "execution_count": 49,
      "metadata": {
        "id": "7IOyd6c1xrey"
      },
      "outputs": [
        {
          "data": {
            "text/plain": [
              "0.0    0.846292\n",
              "1.0    0.153708\n",
              "Name: Is.Non.Annual., dtype: float64"
            ]
          },
          "execution_count": 49,
          "metadata": {},
          "output_type": "execute_result"
        }
      ],
      "source": [
        "### Determine qué proporción de observaciones tienen 1 en este campo\n",
        "\n",
        "X_train['Is.Non.Annual.'].value_counts()/len(X_train)\n",
        "\n",
        "### ¿Qué puede decir de su resultado?"
      ]
    },
    {
      "cell_type": "code",
      "execution_count": 50,
      "metadata": {
        "id": "TXOExiXEyxM0"
      },
      "outputs": [],
      "source": [
        "### Utilice esta información para crear una predicción (sin un modelo) -> Train y Test\n",
        "naive_prediction_train = 1 - X_train['Is.Non.Annual.'].copy()\n",
        "naive_prediction_test = 1 - X_test['Is.Non.Annual.'].copy()\n",
        "###"
      ]
    },
    {
      "cell_type": "code",
      "execution_count": 53,
      "metadata": {},
      "outputs": [
        {
          "data": {
            "text/plain": [
              "1320    1.0\n",
              "1412    1.0\n",
              "530     1.0\n",
              "554     1.0\n",
              "229     1.0\n",
              "       ... \n",
              "1795    1.0\n",
              "32      0.0\n",
              "1199    1.0\n",
              "786     1.0\n",
              "2292    0.0\n",
              "Name: Is.Non.Annual., Length: 717, dtype: float64"
            ]
          },
          "execution_count": 53,
          "metadata": {},
          "output_type": "execute_result"
        }
      ],
      "source": [
        "naive_prediction_test"
      ]
    },
    {
      "cell_type": "markdown",
      "metadata": {
        "id": "G6uDhKl2dqEn"
      },
      "source": [
        "A continuación deberemos revisar el desempeño de nuestra línea base. Para ello, sugerimos utilizar las siguientes herramientas:\n",
        "\n",
        "- [`sklearn.metrics.accuracy_score`](https://scikit-learn.org/stable/modules/generated/sklearn.metrics.accuracy_score.html)\n",
        "- [`sklearn.metrics.classification_report`](https://scikit-learn.org/stable/modules/generated/sklearn.metrics.classification_report.html)\n",
        "- [`sklearn.metrics.confusion_matrix`](https://scikit-learn.org/stable/modules/generated/sklearn.metrics.confusion_matrix.html)\n",
        "- [`sklearn.metrics.ConfusionMatrixDisplay`](https://scikit-learn.org/stable/modules/generated/sklearn.metrics.ConfusionMatrixDisplay.html)"
      ]
    },
    {
      "cell_type": "code",
      "execution_count": 54,
      "metadata": {
        "id": "Z1d7Awt7S4xM"
      },
      "outputs": [
        {
          "data": {
            "text/plain": [
              "0.7206937799043063"
            ]
          },
          "execution_count": 54,
          "metadata": {},
          "output_type": "execute_result"
        }
      ],
      "source": [
        "### Evalúe el desempeño de su modelo en train -- Accuracy, Matriz de Confusión, F1, Precisión, Recall...\n",
        "\n",
        "from sklearn.metrics import accuracy_score\n",
        "\n",
        "accuracy_score(y_train, naive_prediction_train)\n",
        "\n",
        "###\n"
      ]
    },
    {
      "cell_type": "code",
      "execution_count": 55,
      "metadata": {
        "id": "pLX6frcSy-RI"
      },
      "outputs": [
        {
          "data": {
            "text/plain": [
              "0.691771269177127"
            ]
          },
          "execution_count": 55,
          "metadata": {},
          "output_type": "execute_result"
        }
      ],
      "source": [
        "### Evalúe el desempeño de su modelo en test -- Accuracy, Matriz de Confusión, F1, Precisión, Recall...\n",
        "\n",
        "accuracy_score(y_test, naive_prediction_test)\n",
        "\n",
        "###\n"
      ]
    },
    {
      "cell_type": "markdown",
      "metadata": {
        "id": "0Har1H4a0k05"
      },
      "source": [
        "¿Qué conclusiones puede formar respecto a la línea base? ¿Es una buena línea base?"
      ]
    },
    {
      "cell_type": "markdown",
      "metadata": {
        "id": "9PtZwkA2TJbY"
      },
      "source": [
        "## Support Vector Machine -- Default\n",
        "\n",
        "En esta sección se entrenará un modelo de SVM utilizando los parámetros por defcto del modelo. Siempre es bueno conocer cómo se desempeña el modelo sin optimizar hiperparámetros para determinar su desempeño \"base\".\n",
        "\n",
        "Para esto necesitaremos utilizar\n",
        "\n",
        "- [`sklearn.svm.SVC`](https://scikit-learn.org/stable/modules/generated/sklearn.svm.SVC.html): Permitirá entrenar el modelo SVM\n",
        "- [`sklearn.preprocessing.MinMaxScaler`](https://scikit-learn.org/stable/modules/generated/sklearn.preprocessing.MinMaxScaler.html): Para pre-procesamiento (básico) de features.\n",
        "- [`sklearn.pipeline.Pipeline`](https://scikit-learn.org/stable/modules/generated/sklearn.pipeline.Pipeline.html): Para encadenamiento de pasos\n"
      ]
    },
    {
      "cell_type": "code",
      "execution_count": null,
      "metadata": {
        "id": "Ss44I1kpTfab"
      },
      "outputs": [],
      "source": [
        "from sklearn.svm import SVC\n",
        "from sklearn.preprocessing import MinMaxScaler\n",
        "from sklearn.pipeline import Pipeline\n",
        "\n",
        "np.random.seed(10)\n",
        "\n",
        "# Encadene los pasos de Pre-Procesamiento y Modelo\n",
        "\n",
        "###\n",
        "\n",
        "model_steps = None\n",
        "model_steps.append(('MinMaxScaling', None)) # escalamos los datos\n",
        "model_steps.append(('SVM', None)) # definimos SVM(probability = True)\n",
        "\n",
        "###\n",
        "\n",
        "\n",
        "# Defina el Modelo utilizando el Pipeline\n",
        "clf_default = Pipeline(model_steps, verbose=False)"
      ]
    },
    {
      "cell_type": "code",
      "execution_count": null,
      "metadata": {
        "id": "ccBgg0ahfVHv"
      },
      "outputs": [],
      "source": [
        "# Ajuste el Modelo en los Datos de Entrenamiento\n",
        "###\n",
        "\n",
        "None\n",
        "\n",
        "###"
      ]
    },
    {
      "cell_type": "markdown",
      "metadata": {
        "id": "CFPdOwDAfXTr"
      },
      "source": [
        "En este momento se tiene un modelo entrenado con los parámetros por defecto. A continuación se realizarán las predicciones y la evaluación del desempeño del modelo. \n",
        "\n",
        "La predicción se realiza utilizando los métodos `clf_deafult.predict` para la clase (1 o 0), y `clf_default.predict_proba` para predecir las probabilidades. Tenga en cuenta que al utilizar `predict_proba` se obtienen dos columnas, una con la probabilidad para la clase `0` y otra para la clase `1`.  "
      ]
    },
    {
      "cell_type": "code",
      "execution_count": null,
      "metadata": {
        "id": "uAHrGCcUT6uE"
      },
      "outputs": [],
      "source": [
        "# Realice la Predicción de las clases\n",
        "\n",
        "###\n",
        "\n",
        "y_pred_default = None\n",
        "\n",
        "###\n",
        "\n",
        "\n",
        "# Realice la predicción de las probabilidades\n",
        "\n",
        "###\n",
        "y_pred_default_proba = None\n",
        "\n",
        "###"
      ]
    },
    {
      "cell_type": "markdown",
      "metadata": {
        "id": "U4tsIPK2yowM"
      },
      "source": [
        "## Métricas de Evaluación\n",
        "\n",
        "De igual forma que con la línea base, es necesario realizar la evaluación del desempeño del modelo en train y en test. Adicionalmente a las métricas anteriores, se pide la evaluación utilizando la curva ROC y el AUC. \n",
        "\n",
        "- [`sklearn.metrics.roc_curve`](https://scikit-learn.org/stable/modules/generated/sklearn.metrics.roc_curve.html)\n",
        "- [`sklearn.metrics.roc_auc_score`](https://scikit-learn.org/stable/modules/generated/sklearn.metrics.roc_auc_score.html)"
      ]
    },
    {
      "cell_type": "code",
      "execution_count": null,
      "metadata": {
        "id": "u2yhQvN-T9X5"
      },
      "outputs": [],
      "source": [
        "# Evalúe el desempeño de su modelo en train -- Accuracy, Matriz de Confusión, F1, Precisión, Recall...\n",
        "\n",
        "\n",
        "###\n",
        "None\n",
        "\n",
        "\n",
        "###"
      ]
    },
    {
      "cell_type": "code",
      "execution_count": null,
      "metadata": {
        "id": "TJCs44crUpD_"
      },
      "outputs": [],
      "source": [
        "# Realice el cálculo de la curva ROC\n",
        "\n",
        "### \n",
        "\n",
        "\n",
        "false_positives_rate, true_positives_rate, threshold = None\n",
        "\n",
        "###"
      ]
    },
    {
      "cell_type": "code",
      "execution_count": null,
      "metadata": {
        "id": "NUODiR7hUpGJ"
      },
      "outputs": [],
      "source": [
        "# Grafique la curva ROC\n",
        "\n",
        "plt.title('ROC - SVM Lineal (Default)')\n",
        "###\n",
        "\n",
        "\n",
        "plt.plot(None, None, label = 'SVM Default')\n",
        "\n",
        "\n",
        "###\n",
        "\n",
        "plt.plot([0, 1], ls=\"--\")\n",
        "plt.ylabel('True Positive Rate')\n",
        "plt.xlabel('False Positive Rate')\n",
        "plt.ylim(0, 1)\n",
        "plt.xlim(0, 1)\n",
        "plt.legend()\n",
        "plt.show()"
      ]
    },
    {
      "cell_type": "code",
      "execution_count": null,
      "metadata": {
        "id": "GozsZaU0UpIr"
      },
      "outputs": [],
      "source": [
        "# Calcule el AUC del Modelo\n",
        "\n",
        "###\n",
        "\n",
        "print('AUC Score: ', None)\n",
        "\n",
        "###"
      ]
    },
    {
      "cell_type": "markdown",
      "metadata": {
        "id": "Ciw8qF45hlCj"
      },
      "source": [
        "¿Qué puede concluir de este modelo frente a la línea base?"
      ]
    },
    {
      "cell_type": "markdown",
      "metadata": {
        "id": "YBiEbJycWyW9"
      },
      "source": [
        "# Utilización de Kernels -- Búsqueda de Hiperparámetros\n",
        "\n",
        "No siempre el modelo con los parámetros por defecto suele ser el mejor. Sin embargo, sí suele dar un indicio del desempeño que se va a conseguir con el modelo. \n",
        "\n",
        "Una vez construída la línea base, se suele realizar la estimación utilizando una búsqueda de hiperparámetros. Esta búsqueda permite seleccionar los hiperparámetros óptimos para el modelo, de forma tal que genere el mejor desempeño posible.\n",
        "\n",
        "## Búsqueda de la Mejor Combinación\n",
        "\n",
        "Existen varias estrategias de búsqueda de hiperparámetros. En esta sección se utilizará principalmente [`sklearn.model_selection.GridSearchCV`](https://scikit-learn.org/stable/modules/generated/sklearn.model_selection.GridSearchCV.html), que nos permite definir una \"malla\" de parámetros sobre los cuales entrenar modelos. "
      ]
    },
    {
      "cell_type": "code",
      "execution_count": null,
      "metadata": {
        "id": "RDnDixJkWxnI"
      },
      "outputs": [],
      "source": [
        "from sklearn.model_selection import GridSearchCV"
      ]
    },
    {
      "cell_type": "code",
      "execution_count": null,
      "metadata": {
        "id": "uWTRDXKBXObh"
      },
      "outputs": [],
      "source": [
        "# Defina los hiperparametros que quiere probar\n",
        "\n",
        "###\n",
        "\n",
        "hyperparameters_grid = [{\n",
        "    'SVM__kernel': [None],  # Una lista con los kernels que desea probar\n",
        "    'SVM__C': [None], # Una lista con los valores de C para regularización\n",
        "    'SVM__gamma': [None] # Una lista con los valores de gamma de los kernels\n",
        "}]\n",
        "\n",
        "###"
      ]
    },
    {
      "cell_type": "code",
      "execution_count": null,
      "metadata": {
        "id": "JgkaCRlaYAlv"
      },
      "outputs": [],
      "source": [
        "Hyper_SVM = Pipeline(model_steps, verbose=False)"
      ]
    },
    {
      "cell_type": "code",
      "execution_count": null,
      "metadata": {
        "id": "OQepNS4GYjW6"
      },
      "outputs": [],
      "source": [
        "grid_search = GridSearchCV(Hyper_SVM, hyperparameters_grid, cv=5,  n_jobs=3)"
      ]
    },
    {
      "cell_type": "code",
      "execution_count": null,
      "metadata": {
        "id": "zgv7z2eVYotN"
      },
      "outputs": [],
      "source": [
        "grid_search.fit(X_train, y_train)"
      ]
    },
    {
      "cell_type": "markdown",
      "metadata": {
        "id": "rqQnKx5Pi64h"
      },
      "source": [
        "### Selección del Mejor Modelo\n",
        "\n",
        "En este punto se entrenaron tantos modelos como combinaciones de hiperparámetros definidos. Solo uno de ellos puede ser el mejor modelo. A continuación, obtenemos el mejor modelo de los entrenados y evaluamos su desempeño en test."
      ]
    },
    {
      "cell_type": "code",
      "execution_count": null,
      "metadata": {
        "id": "do1ZwhGHZ7ca"
      },
      "outputs": [],
      "source": [
        "cv_performance = grid_search.best_score_\n",
        "test_performance = grid_search.score(X_test, y_test)"
      ]
    },
    {
      "cell_type": "code",
      "execution_count": null,
      "metadata": {
        "id": "FPPg7rOjZ9iP"
      },
      "outputs": [],
      "source": [
        "print('Best parameter: {}'.format(str(grid_search.best_params_)))\n",
        "print('Cross-validation accuracy score: {0:0.3f}'.format(cv_performance))"
      ]
    },
    {
      "cell_type": "markdown",
      "metadata": {
        "id": "VfI8J6xdaYQ3"
      },
      "source": [
        "## Entrenamiento del Mejor Modelo\n",
        "\n",
        "El mejor modelo fue entrenado utilizando Cross-Validation, por lo que no tenemos un modelo entrenado utilizando la totalidad de los datos de entrenamiento. Por esta razón, tomamos los hiperparámetros del mejor modelo y entrenamos uno nuevo."
      ]
    },
    {
      "cell_type": "code",
      "execution_count": null,
      "metadata": {
        "id": "1S11bEfgaXsv"
      },
      "outputs": [],
      "source": [
        "best_model = grid_search.best_estimator_\n",
        "best_model.fit(X_train, y_train)"
      ]
    },
    {
      "cell_type": "markdown",
      "metadata": {
        "id": "uKGQEoumjwAZ"
      },
      "source": [
        "Una vez entrenado, ya es posible realizar las predicciones y evaluar su desempeño para comparación con los modelos anteriores."
      ]
    },
    {
      "cell_type": "code",
      "execution_count": null,
      "metadata": {
        "id": "N0UBowtFadY9"
      },
      "outputs": [],
      "source": [
        "y_pred_hp = best_model.predict(X_test)\n",
        "y_pred_prob_hp = best_model.predict_proba(X_test)[:,1]"
      ]
    },
    {
      "cell_type": "code",
      "execution_count": null,
      "metadata": {
        "id": "Fs7Im0uKaoBw"
      },
      "outputs": [],
      "source": [
        " print('AUC Score: ', roc_auc_score(y_test, y_pred_prob_hp))"
      ]
    },
    {
      "cell_type": "code",
      "execution_count": null,
      "metadata": {
        "id": "px6vjhOFawsZ"
      },
      "outputs": [],
      "source": [
        "false_positives_rate_hp, true_positives_rate_hp, threshold = roc_curve(y_test, y_pred_prob_hp)"
      ]
    },
    {
      "cell_type": "code",
      "execution_count": null,
      "metadata": {
        "id": "4kxc1sDXas0X"
      },
      "outputs": [],
      "source": [
        "# Grafique la curva ROC para ambos modelos\n",
        "\n",
        "\n",
        "plt.title('ROC - Comparación Modelos')\n",
        "\n",
        "###\n",
        "\n",
        "plt.plot(None, None, label = 'SVM Default')\n",
        "plt.plot([0, 1], ls=\"--\")\n",
        "plt.plot(None, None, label = 'Tuned SVM')\n",
        "\n",
        "###\n",
        "\n",
        "plt.ylabel('True Positive Rate')\n",
        "plt.xlabel('False Positive Rate')\n",
        "plt.ylim(0, 1)\n",
        "plt.xlim(0, 1)\n",
        "plt.show()"
      ]
    },
    {
      "attachments": {},
      "cell_type": "markdown",
      "metadata": {},
      "source": [
        "Escoger el mejor modelo:\n",
        "Linea base.\n",
        "SVC.\n",
        "Reg Logi.\n",
        "\n",
        "Mini informe \"Crisp-DM\""
      ]
    },
    {
      "cell_type": "markdown",
      "metadata": {
        "id": "yQFwJzQ9WN-a"
      },
      "source": [
        "# Interpretación de Resultados\n",
        "\n",
        "¿Qué puede decir respecto a los resultados obtenidos de la línea base y el SVM? ¿Cómo impactan sus resultados al negocio de STC?"
      ]
    },
    {
      "cell_type": "code",
      "execution_count": null,
      "metadata": {
        "id": "oa9ceIWZb8u0"
      },
      "outputs": [],
      "source": []
    }
  ],
  "metadata": {
    "colab": {
      "provenance": []
    },
    "kernelspec": {
      "display_name": "base",
      "language": "python",
      "name": "python3"
    },
    "language_info": {
      "codemirror_mode": {
        "name": "ipython",
        "version": 3
      },
      "file_extension": ".py",
      "mimetype": "text/x-python",
      "name": "python",
      "nbconvert_exporter": "python",
      "pygments_lexer": "ipython3",
      "version": "3.9.13"
    },
    "vscode": {
      "interpreter": {
        "hash": "b84fc9172824c696e44b4f6245c3eaa8113e8ed989c88bf417f5fd8983ae5c7c"
      }
    }
  },
  "nbformat": 4,
  "nbformat_minor": 0
}
