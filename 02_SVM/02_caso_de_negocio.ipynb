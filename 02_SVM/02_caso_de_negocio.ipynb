{
  "cells": [
    {
      "cell_type": "markdown",
      "metadata": {
        "id": "WBg9MBDQqHcL"
      },
      "source": [
        "# Caso de Negocio -- Scholastic Travel Company\n",
        "\n",
        "La agencia de viajes Scholastic Travel Company desea crear una estrategia de retención de clientes. Para esto, es necesario que el equipo de analítica cree un modelo de predicción para determinar qué clientes de los que viajaron el año anterior (2011) van a reservar nuevamente el año siguiente (2012). \n",
        "\n",
        "En este Notebook se trabajarán los siguientes temas: \n",
        "\n",
        "- Separación de Datos en Train/Val/Test\n",
        "- Análisis de Correlaciones\n",
        "- Ajuste del mejor SVM \n",
        "- Métricas de Evaluación\n",
        "\n",
        "\n",
        "<table class=\"tfo-notebook-buttons\" align=\"center\">\n",
        "\n",
        "  <td>\n",
        "    <a target=\"_blank\" href=\"https://colab.research.google.com/github/juancop/metodos_analitica_2/blob/main/02_SVM/02_caso_de_negocio.ipynb\"><img src=\"https://colab.research.google.com/assets/colab-badge.svg\" /></a>\n",
        "  </td>\n",
        "  <td>\n",
        "    <a target=\"_blank\" href=\"https://github.com/juancop/metodos_analitica_2/blob/dev/01_optimization/02_SVM/02_caso_de_negocio.ipynb\"><img src=\"https://www.tensorflow.org/images/GitHub-Mark-32px.png\" /></a>\n",
        "  </td>\n",
        "  \n",
        "</table>"
      ]
    },
    {
      "cell_type": "code",
      "execution_count": null,
      "metadata": {
        "id": "e5tN8tUorjY7"
      },
      "outputs": [],
      "source": [
        "import pandas as pd\n",
        "import numpy as np\n",
        "import seaborn as sns\n",
        "import matplotlib.pyplot as plt\n",
        "from sklearn.svm import SVC"
      ]
    },
    {
      "cell_type": "markdown",
      "metadata": {
        "id": "_pdyJgSIqF6l"
      },
      "source": [
        "A continuación se carga la base de datos de STC, que cuenta con 2389 registros de clientes que viajaron en 2011 y tiene una variable que determina si el cliente viajó nuevamente en 2012. "
      ]
    },
    {
      "cell_type": "code",
      "execution_count": null,
      "metadata": {
        "id": "UAXS4X9artmG"
      },
      "outputs": [],
      "source": [
        "df = pd.read_csv('STC_datos_grupos.csv', sep = ';')"
      ]
    },
    {
      "cell_type": "code",
      "execution_count": null,
      "metadata": {
        "id": "cnsCr0Wirl-F"
      },
      "outputs": [],
      "source": [
        "df.shape"
      ]
    },
    {
      "cell_type": "code",
      "execution_count": null,
      "metadata": {
        "id": "SVkrgyq66Xa-"
      },
      "outputs": [],
      "source": [
        "df.head()"
      ]
    },
    {
      "cell_type": "markdown",
      "metadata": {
        "id": "o9N1Bf4Js6fE"
      },
      "source": [
        "Se cuenta con 54 variables independientes y una variable explicativa, `Retained.in.2012.`. "
      ]
    },
    {
      "cell_type": "code",
      "execution_count": null,
      "metadata": {
        "id": "FFf39trL_rd_"
      },
      "outputs": [],
      "source": [
        "df = df.drop(columns = ['FirstMeeting', 'LastMeeting', 'Initial.System.Date', 'Early.RPL', 'Latest.RPL', 'Departure.Date', 'Return.Date', 'Deposit.Date', 'ID'])"
      ]
    },
    {
      "cell_type": "code",
      "execution_count": null,
      "metadata": {
        "id": "Cgzkz5MO6X_X"
      },
      "outputs": [],
      "source": [
        "df.columns"
      ]
    },
    {
      "cell_type": "markdown",
      "metadata": {
        "id": "qwoEgd_Q04WR"
      },
      "source": [
        "# Limpieza de Datos\n",
        "\n",
        "Nos entregan una base de datos que tiene demasiadas variables categóricas que pueden o no aportar información para el modelo. A continuación se limpiarán las categorías y se hará imputación de datos en caso de que haya variables faltantes. "
      ]
    },
    {
      "cell_type": "code",
      "execution_count": null,
      "metadata": {
        "id": "uZiPfB3J1Zkl"
      },
      "outputs": [],
      "source": [
        "## Asignación de tipos categóricos\n",
        "\n",
        "categorical_features = ['From.Grade', 'To.Grade', 'Group.State', 'Travel.Type', 'Poverty.Code', 'CRM.Segment', 'School.Type', 'Parent.Meeting.Flag', \n",
        "                        'MDR.High.Grade', 'School.Sponsor', 'SchoolGradeTypeLow', 'SchoolGradeTypeHigh', 'GroupGradeTypeLow', 'GroupGradeTypeHigh',\n",
        "                        'MajorProgramCode', 'SingleGradeTripFlag', 'SchoolSizeIndicator', 'Region', 'Special.Pay',    \n",
        "                        'Income.Level', 'SPR.Product.Type', 'SPR.New.Existing', 'DepartureMonth', 'MDR.Low.Grade', \n",
        "                        'FPP.to.School.enrollment', 'GroupGradeType', 'Program.Code', 'SchoolGradeType']\n",
        "\n",
        "df[categorical_features] = df[categorical_features].apply(lambda x: x.astype('category'))\n",
        "\n"
      ]
    },
    {
      "cell_type": "markdown",
      "metadata": {
        "id": "7sacgGAv9E7s"
      },
      "source": [
        "## División en Train y Test\n",
        "\n",
        "Antes de comenzar con la limpieza de datos (que es inputación de missing values, estandarizaciones, etc...) es importante realizar la división en train-test. No queremos codificar en los datos de entrenamiento información de los datos de prueba... \n",
        "\n",
        "Para esto, utilice la función de [`sklearn.model_selection.train_test_split`](https://scikit-learn.org/stable/modules/generated/sklearn.model_selection.train_test_split.html)."
      ]
    },
    {
      "cell_type": "code",
      "execution_count": null,
      "metadata": {
        "id": "oE6oE-ek8keD"
      },
      "outputs": [],
      "source": [
        "y = df['Retained.in.2012.']\n",
        "X = df.drop(columns = 'Retained.in.2012.')\n",
        "\n",
        "### Utilice train_test_split para dividir los datos en entrenamiento y test. \n",
        "\n",
        "# Deje que el tamaño de test sea de 30%\n",
        "# Random Sate: 42 para fines comparativos\n",
        "\n",
        "X_train, X_test, y_train, y_test = None, None, None, None\n",
        "                                                    \n",
        "###"
      ]
    },
    {
      "cell_type": "markdown",
      "metadata": {
        "id": "4fJtpLZi-XiB"
      },
      "source": [
        "Verifique que la concentración de la variable dependiente sea similar en la base de entrenamiento y en la de validación."
      ]
    },
    {
      "cell_type": "code",
      "execution_count": null,
      "metadata": {
        "id": "ACs5mouA790K"
      },
      "outputs": [],
      "source": [
        "y_test.value_counts()/len(y_test)"
      ]
    },
    {
      "cell_type": "code",
      "execution_count": null,
      "metadata": {
        "id": "a5SBjTNP5IFn"
      },
      "outputs": [],
      "source": [
        "y_train.value_counts()/len(y_train)"
      ]
    },
    {
      "cell_type": "markdown",
      "metadata": {
        "id": "mXuj3CEr-qiu"
      },
      "source": [
        "## Missing Values\n",
        "\n",
        "A continuación se realizará la inputación de valores faltantes. Utilizando el método `X_train.isna().sum()`"
      ]
    },
    {
      "cell_type": "code",
      "execution_count": null,
      "metadata": {
        "id": "FUNXm2rT-prD"
      },
      "outputs": [],
      "source": [
        "pd.DataFrame(X_train.isna().sum()/len(X_train))"
      ]
    },
    {
      "cell_type": "markdown",
      "metadata": {
        "id": "pmLkQkC3BKs3"
      },
      "source": [
        "Se observa que hay pocas columnas con valores faltantes. El 14% de los datos de entrenamiento no tuvo reuniones de padres, y el 25% no tiene asignado un código de pobreza. Es importante inputar los valores faltantes para poder realizar el entrenamiento. \n",
        "\n",
        "Utilice el método de [`sklearn.impute.SimpleImputer`](https://scikit-learn.org/stable/modules/generated/sklearn.impute.SimpleImputer.html) para entrenar un imputador para variables categóricas y variables numéricas. "
      ]
    },
    {
      "cell_type": "code",
      "execution_count": null,
      "metadata": {
        "id": "rLDm2k2SCmje"
      },
      "outputs": [],
      "source": [
        "categorical_columns = X_train.select_dtypes(exclude = [int, float]).columns\n",
        "numerical_columns = X_train.select_dtypes(include = [int, float]).columns\n",
        "\n",
        "### Imputador de Variables Categóricas -- strategy -> constant\n",
        "\n",
        "categorical_imputer = None\n",
        "###"
      ]
    },
    {
      "cell_type": "code",
      "execution_count": null,
      "metadata": {
        "id": "wsLaY_zsCml8"
      },
      "outputs": [],
      "source": [
        "### Imputador de Variables Numéricas -- strategy -> Median\n",
        "numerical_imputer = None\n",
        "###"
      ]
    },
    {
      "cell_type": "code",
      "execution_count": null,
      "metadata": {
        "id": "QHqjtUnOCmol"
      },
      "outputs": [],
      "source": [
        "categorical_imputer.fit(X_train[categorical_columns])"
      ]
    },
    {
      "cell_type": "code",
      "execution_count": null,
      "metadata": {
        "id": "a4cuvASgDib2"
      },
      "outputs": [],
      "source": [
        "numerical_imputer.fit(X_train[numerical_columns])"
      ]
    },
    {
      "cell_type": "code",
      "execution_count": null,
      "metadata": {
        "id": "-6PF_RpWJTEy"
      },
      "outputs": [],
      "source": [
        "# Utilice los imputers para inputar valores faltantes tanto en train como en test\n",
        "\n",
        "###\n",
        "X_train[categorical_columns] = categorical_imputer.transform(X_train[categorical_columns])\n",
        "X_test[categorical_columns] = categorical_imputer.transform(X_test[categorical_columns])\n",
        "\n",
        "X_train[numerical_columns] = numerical_imputer.transform(X_train[numerical_columns])\n",
        "X_test[numerical_columns] = numerical_imputer.transform(X_test[numerical_columns])\n",
        "###"
      ]
    },
    {
      "cell_type": "code",
      "execution_count": null,
      "metadata": {
        "id": "jxwxH_DRJTHq"
      },
      "outputs": [],
      "source": [
        "# Verifique que efectivamente no tenga valores faltantes\n",
        "\n",
        "###\n",
        "pd.DataFrame(X_train.isna().sum()/len(X_train))\n",
        "\n",
        "###"
      ]
    },
    {
      "cell_type": "markdown",
      "metadata": {
        "id": "qv6k4Sz_KsJi"
      },
      "source": [
        "## Revisión Categorías\n",
        "\n",
        "En la base de datos existe un gran número de variables categóricas. Se debe decidir de qué manera codificar la información (si requiere) para que el modelo pueda utilizarla. \n",
        "\n",
        "En principio, note que hay variables en las que hay categorías con pocas observaciones. Por ejemplo, la variable `From.Grade` tiene los siguientes conteos:\n",
        "\n",
        "\n",
        "|               |   From.Grade |\n",
        "|:--------------|-------------:|\n",
        "| 8.0           |          786 |\n",
        "| 7.0           |          365 |\n",
        "| 6.0           |          159 |\n",
        "| 4.0           |          109 |\n",
        "| missing_value |           91 |\n",
        "| 5.0           |           67 |\n",
        "| 9.0           |           47 |\n",
        "| 11.0          |           19 |\n",
        "| 10.0          |           19 |\n",
        "| 12.0          |            5 |\n",
        "| 3.0           |            5 |\n",
        "\n",
        "Se puede apreciar que la categoría 3 y 12 tienen 5 observaciones. Lo ideal es agrupar las categorías que tienen menos observaciones en una nueva categoría como \"Otra\"."
      ]
    },
    {
      "cell_type": "code",
      "execution_count": null,
      "metadata": {
        "id": "dzctQMDeJTKx"
      },
      "outputs": [],
      "source": [
        "for column in categorical_columns:\n",
        "  categorical_counts = pd.value_counts(X_train[column])\n",
        "  grouper = (categorical_counts/categorical_counts.sum() * 100).lt(2) # Selecciona aquellas con < 2% de observaciones\n",
        "  X_train[column] = np.where(X_train[column].isin(categorical_counts[grouper].index),'Otra',X_train[column]) # Reemplaza en columna original\n",
        "  X_test[column] = np.where(X_test[column].isin(categorical_counts[grouper].index),'Otra',X_test[column])"
      ]
    },
    {
      "cell_type": "code",
      "execution_count": null,
      "metadata": {
        "id": "wC_EvFXhMTtI"
      },
      "outputs": [],
      "source": [
        "X_train['From.Grade'].value_counts()"
      ]
    },
    {
      "cell_type": "markdown",
      "metadata": {
        "id": "WooTXi2XMrBW"
      },
      "source": [
        "## Variables Dummies\n",
        "\n",
        "Algunas de las variables categóricas necesitan ser codificadas para poder entrar al modelo. Particularmente aquellas categorías que no son ordinales, como los estados donde se ubican los colegios. Por esta razón, utilizaremos One-Hot Encoding, para volver una variable categórica en un conjunto de variables binarias.\n",
        "\n",
        "Utilice el método [`pd.get_dummies`](https://pandas.pydata.org/docs/reference/api/pandas.get_dummies.html) para extraer las dummies de variables categóricas.\n",
        "\n",
        "\n",
        "<div class=\"alert alert-block alert-danger\">\n",
        "<b>Cuidado:</b> Utilizar un número excesivo de variables dummies puede afectar negativamente el desempeño del modelo.\n",
        "</div>"
      ]
    },
    {
      "cell_type": "code",
      "execution_count": null,
      "metadata": {
        "id": "eX5HdfSSOASD"
      },
      "outputs": [],
      "source": [
        "###\n",
        "\n",
        "X_train = None\n",
        "X_test = None # Pero igual debemos asegurarnos que no haya \"dummies de más\"\n",
        "\n",
        "###"
      ]
    },
    {
      "cell_type": "code",
      "execution_count": null,
      "metadata": {
        "id": "wxFiNU2cRmsX"
      },
      "outputs": [],
      "source": [
        "X_train, X_test = X_train.align(X_test, fill_value = 0, axis = 1, join = 'left') # Alineamos datos para mantener mismas columnas"
      ]
    },
    {
      "cell_type": "code",
      "execution_count": null,
      "metadata": {
        "id": "dssCAUwhOExB"
      },
      "outputs": [],
      "source": [
        "X_train.head()"
      ]
    },
    {
      "cell_type": "code",
      "execution_count": null,
      "metadata": {
        "id": "GMuGapauSGu-"
      },
      "outputs": [],
      "source": [
        "X_test.head()"
      ]
    },
    {
      "cell_type": "markdown",
      "metadata": {
        "id": "GfcKm0W6OPwp"
      },
      "source": [
        "En este punto, los datos de entrenamiento y prueba tienen las mismas características y están codificados de la misma forma basado en la información de entrenamiento. Con lo anterior, es posible entrenar los modelos que queramos para predicción."
      ]
    },
    {
      "cell_type": "markdown",
      "metadata": {
        "id": "0vSl0SQRTK0v"
      },
      "source": [
        "# Modelamiento\n",
        "\n",
        "En esta sección se realizará\n",
        "- Línea Base\n",
        "- Support Vector Machine"
      ]
    },
    {
      "cell_type": "markdown",
      "metadata": {
        "id": "_riubQOzxt-J"
      },
      "source": [
        "## Línea Base -- Sencilla\n",
        "\n",
        "Lo ideal al resolver un problema de Machine Learning es siempre tener una línea base de comparación. Usualmente se utiliza un modelo previo, alguna heurística,el modelo más sencillo al alcance o lo que hubiera hecho un humano. En este caso contamos con información de una variable binaria que podría ser un muy buen predictor de no reserva el siguiente año: \n",
        "\n",
        "> `Is.Non.Annual.`: Variable binaria que indica si el grupo suele saltarse un año entre programas de viaje. Aquellos que se suelen saltar el año, muy rara vez viajan el año siguiente. \n",
        "\n",
        "Utilice esta variable para construir una línea base de comparación."
      ]
    },
    {
      "cell_type": "code",
      "execution_count": null,
      "metadata": {
        "id": "7IOyd6c1xrey"
      },
      "outputs": [],
      "source": [
        "### Determine qué proporción de observaciones tienen 1 en este campo\n",
        "\n",
        "\n",
        "\n",
        "### ¿Qué puede decir de su resultado?"
      ]
    },
    {
      "cell_type": "code",
      "execution_count": null,
      "metadata": {
        "id": "TXOExiXEyxM0"
      },
      "outputs": [],
      "source": [
        "### Utilice esta información para crear una predicción (sin un modelo) -> Train y Test\n",
        "\n",
        "\n",
        "###"
      ]
    },
    {
      "cell_type": "markdown",
      "metadata": {
        "id": "G6uDhKl2dqEn"
      },
      "source": [
        "A continuación deberemos revisar el desempeño de nuestra línea base. Para ello, sugerimos utilizar las siguientes herramientas:\n",
        "\n",
        "- [`sklearn.metrics.accuracy_score`](https://scikit-learn.org/stable/modules/generated/sklearn.metrics.accuracy_score.html)\n",
        "- [`sklearn.metrics.classification_report`](https://scikit-learn.org/stable/modules/generated/sklearn.metrics.classification_report.html)\n",
        "- [`sklearn.metrics.confusion_matrix`](https://scikit-learn.org/stable/modules/generated/sklearn.metrics.confusion_matrix.html)\n",
        "- [`sklearn.metrics.ConfusionMatrixDisplay`](https://scikit-learn.org/stable/modules/generated/sklearn.metrics.ConfusionMatrixDisplay.html)"
      ]
    },
    {
      "cell_type": "code",
      "execution_count": null,
      "metadata": {
        "id": "Z1d7Awt7S4xM"
      },
      "outputs": [],
      "source": [
        "### Evalúe el desempeño de su modelo en train -- Accuracy, Matriz de Confusión, F1, Precisión, Recall...\n",
        "\n",
        "None\n",
        "\n",
        "###\n"
      ]
    },
    {
      "cell_type": "code",
      "execution_count": null,
      "metadata": {
        "id": "pLX6frcSy-RI"
      },
      "outputs": [],
      "source": [
        "### Evalúe el desempeño de su modelo en test -- Accuracy, Matriz de Confusión, F1, Precisión, Recall...\n",
        "\n",
        "None\n",
        "\n",
        "###\n"
      ]
    },
    {
      "cell_type": "markdown",
      "metadata": {
        "id": "0Har1H4a0k05"
      },
      "source": [
        "¿Qué conclusiones puede formar respecto a la línea base? ¿Es una buena línea base?"
      ]
    },
    {
      "cell_type": "markdown",
      "metadata": {
        "id": "9PtZwkA2TJbY"
      },
      "source": [
        "## Support Vector Machine -- Default\n",
        "\n",
        "En esta sección se entrenará un modelo de SVM utilizando los parámetros por defcto del modelo. Siempre es bueno conocer cómo se desempeña el modelo sin optimizar hiperparámetros para determinar su desempeño \"base\".\n",
        "\n",
        "Para esto necesitaremos utilizar\n",
        "\n",
        "- [`sklearn.svm.SVC`](https://scikit-learn.org/stable/modules/generated/sklearn.svm.SVC.html): Permitirá entrenar el modelo SVM\n",
        "- [`sklearn.preprocessing.MinMaxScaler`](https://scikit-learn.org/stable/modules/generated/sklearn.preprocessing.MinMaxScaler.html): Para pre-procesamiento (básico) de features.\n",
        "- [`sklearn.pipeline.Pipeline`](https://scikit-learn.org/stable/modules/generated/sklearn.pipeline.Pipeline.html): Para encadenamiento de pasos\n"
      ]
    },
    {
      "cell_type": "code",
      "execution_count": null,
      "metadata": {
        "id": "Ss44I1kpTfab"
      },
      "outputs": [],
      "source": [
        "from sklearn.svm import SVC\n",
        "from sklearn.preprocessing import MinMaxScaler\n",
        "from sklearn.pipeline import Pipeline\n",
        "\n",
        "np.random.seed(10)\n",
        "\n",
        "# Encadene los pasos de Pre-Procesamiento y Modelo\n",
        "\n",
        "###\n",
        "\n",
        "model_steps = None\n",
        "model_steps.append(('MinMaxScaling', None)) # escalamos los datos\n",
        "model_steps.append(('SVM', None)) # definimos SVM(probability = True)\n",
        "\n",
        "###\n",
        "\n",
        "\n",
        "# Defina el Modelo utilizando el Pipeline\n",
        "clf_default = Pipeline(model_steps, verbose=False)"
      ]
    },
    {
      "cell_type": "code",
      "execution_count": null,
      "metadata": {
        "id": "ccBgg0ahfVHv"
      },
      "outputs": [],
      "source": [
        "# Ajuste el Modelo en los Datos de Entrenamiento\n",
        "###\n",
        "\n",
        "None\n",
        "\n",
        "###"
      ]
    },
    {
      "cell_type": "markdown",
      "metadata": {
        "id": "CFPdOwDAfXTr"
      },
      "source": [
        "En este momento se tiene un modelo entrenado con los parámetros por defecto. A continuación se realizarán las predicciones y la evaluación del desempeño del modelo. \n",
        "\n",
        "La predicción se realiza utilizando los métodos `clf_deafult.predict` para la clase (1 o 0), y `clf_default.predict_proba` para predecir las probabilidades. Tenga en cuenta que al utilizar `predict_proba` se obtienen dos columnas, una con la probabilidad para la clase `0` y otra para la clase `1`.  "
      ]
    },
    {
      "cell_type": "code",
      "execution_count": null,
      "metadata": {
        "id": "uAHrGCcUT6uE"
      },
      "outputs": [],
      "source": [
        "# Realice la Predicción de las clases\n",
        "\n",
        "###\n",
        "\n",
        "y_pred_default = None\n",
        "\n",
        "###\n",
        "\n",
        "\n",
        "# Realice la predicción de las probabilidades\n",
        "\n",
        "###\n",
        "y_pred_default_proba = None\n",
        "\n",
        "###"
      ]
    },
    {
      "cell_type": "markdown",
      "metadata": {
        "id": "U4tsIPK2yowM"
      },
      "source": [
        "## Métricas de Evaluación\n",
        "\n",
        "De igual forma que con la línea base, es necesario realizar la evaluación del desempeño del modelo en train y en test. Adicionalmente a las métricas anteriores, se pide la evaluación utilizando la curva ROC y el AUC. \n",
        "\n",
        "- [`sklearn.metrics.roc_curve`](https://scikit-learn.org/stable/modules/generated/sklearn.metrics.roc_curve.html)\n",
        "- [`sklearn.metrics.roc_auc_score`](https://scikit-learn.org/stable/modules/generated/sklearn.metrics.roc_auc_score.html)"
      ]
    },
    {
      "cell_type": "code",
      "execution_count": null,
      "metadata": {
        "id": "u2yhQvN-T9X5"
      },
      "outputs": [],
      "source": [
        "# Evalúe el desempeño de su modelo en train -- Accuracy, Matriz de Confusión, F1, Precisión, Recall...\n",
        "\n",
        "\n",
        "###\n",
        "None\n",
        "\n",
        "\n",
        "###"
      ]
    },
    {
      "cell_type": "code",
      "execution_count": null,
      "metadata": {
        "id": "TJCs44crUpD_"
      },
      "outputs": [],
      "source": [
        "# Realice el cálculo de la curva ROC\n",
        "\n",
        "### \n",
        "\n",
        "\n",
        "false_positives_rate, true_positives_rate, threshold = None\n",
        "\n",
        "###"
      ]
    },
    {
      "cell_type": "code",
      "execution_count": null,
      "metadata": {
        "id": "NUODiR7hUpGJ"
      },
      "outputs": [],
      "source": [
        "# Grafique la curva ROC\n",
        "\n",
        "plt.title('ROC - SVM Lineal (Default)')\n",
        "###\n",
        "\n",
        "\n",
        "plt.plot(None, None, label = 'SVM Default')\n",
        "\n",
        "\n",
        "###\n",
        "\n",
        "plt.plot([0, 1], ls=\"--\")\n",
        "plt.ylabel('True Positive Rate')\n",
        "plt.xlabel('False Positive Rate')\n",
        "plt.ylim(0, 1)\n",
        "plt.xlim(0, 1)\n",
        "plt.legend()\n",
        "plt.show()"
      ]
    },
    {
      "cell_type": "code",
      "execution_count": null,
      "metadata": {
        "id": "GozsZaU0UpIr"
      },
      "outputs": [],
      "source": [
        "# Calcule el AUC del Modelo\n",
        "\n",
        "###\n",
        "\n",
        "print('AUC Score: ', None)\n",
        "\n",
        "###"
      ]
    },
    {
      "cell_type": "markdown",
      "metadata": {
        "id": "Ciw8qF45hlCj"
      },
      "source": [
        "¿Qué puede concluir de este modelo frente a la línea base?"
      ]
    },
    {
      "cell_type": "markdown",
      "metadata": {
        "id": "YBiEbJycWyW9"
      },
      "source": [
        "# Utilización de Kernels -- Búsqueda de Hiperparámetros\n",
        "\n",
        "No siempre el modelo con los parámetros por defecto suele ser el mejor. Sin embargo, sí suele dar un indicio del desempeño que se va a conseguir con el modelo. \n",
        "\n",
        "Una vez construída la línea base, se suele realizar la estimación utilizando una búsqueda de hiperparámetros. Esta búsqueda permite seleccionar los hiperparámetros óptimos para el modelo, de forma tal que genere el mejor desempeño posible.\n",
        "\n",
        "## Búsqueda de la Mejor Combinación\n",
        "\n",
        "Existen varias estrategias de búsqueda de hiperparámetros. En esta sección se utilizará principalmente [`sklearn.model_selection.GridSearchCV`](https://scikit-learn.org/stable/modules/generated/sklearn.model_selection.GridSearchCV.html), que nos permite definir una \"malla\" de parámetros sobre los cuales entrenar modelos. "
      ]
    },
    {
      "cell_type": "code",
      "execution_count": null,
      "metadata": {
        "id": "RDnDixJkWxnI"
      },
      "outputs": [],
      "source": [
        "from sklearn.model_selection import GridSearchCV"
      ]
    },
    {
      "cell_type": "code",
      "execution_count": null,
      "metadata": {
        "id": "uWTRDXKBXObh"
      },
      "outputs": [],
      "source": [
        "# Defina los hiperparametros que quiere probar\n",
        "\n",
        "###\n",
        "\n",
        "hyperparameters_grid = [{\n",
        "    'SVM__kernel': [None],  # Una lista con los kernels que desea probar\n",
        "    'SVM__C': [None], # Una lista con los valores de C para regularización\n",
        "    'SVM__gamma': [None] # Una lista con los valores de gamma de los kernels\n",
        "}]\n",
        "\n",
        "###"
      ]
    },
    {
      "cell_type": "code",
      "execution_count": null,
      "metadata": {
        "id": "JgkaCRlaYAlv"
      },
      "outputs": [],
      "source": [
        "Hyper_SVM = Pipeline(model_steps, verbose=False)"
      ]
    },
    {
      "cell_type": "code",
      "execution_count": null,
      "metadata": {
        "id": "OQepNS4GYjW6"
      },
      "outputs": [],
      "source": [
        "grid_search = GridSearchCV(Hyper_SVM, hyperparameters_grid, cv=5,  n_jobs=3)"
      ]
    },
    {
      "cell_type": "code",
      "execution_count": null,
      "metadata": {
        "id": "zgv7z2eVYotN"
      },
      "outputs": [],
      "source": [
        "grid_search.fit(X_train, y_train)"
      ]
    },
    {
      "cell_type": "markdown",
      "metadata": {
        "id": "rqQnKx5Pi64h"
      },
      "source": [
        "### Selección del Mejor Modelo\n",
        "\n",
        "En este punto se entrenaron tantos modelos como combinaciones de hiperparámetros definidos. Solo uno de ellos puede ser el mejor modelo. A continuación, obtenemos el mejor modelo de los entrenados y evaluamos su desempeño en test."
      ]
    },
    {
      "cell_type": "code",
      "execution_count": null,
      "metadata": {
        "id": "do1ZwhGHZ7ca"
      },
      "outputs": [],
      "source": [
        "cv_performance = grid_search.best_score_\n",
        "test_performance = grid_search.score(X_test, y_test)"
      ]
    },
    {
      "cell_type": "code",
      "execution_count": null,
      "metadata": {
        "id": "FPPg7rOjZ9iP"
      },
      "outputs": [],
      "source": [
        "print('Best parameter: {}'.format(str(grid_search.best_params_)))\n",
        "print('Cross-validation accuracy score: {0:0.3f}'.format(cv_performance))"
      ]
    },
    {
      "cell_type": "markdown",
      "metadata": {
        "id": "VfI8J6xdaYQ3"
      },
      "source": [
        "## Entrenamiento del Mejor Modelo\n",
        "\n",
        "El mejor modelo fue entrenado utilizando Cross-Validation, por lo que no tenemos un modelo entrenado utilizando la totalidad de los datos de entrenamiento. Por esta razón, tomamos los hiperparámetros del mejor modelo y entrenamos uno nuevo."
      ]
    },
    {
      "cell_type": "code",
      "execution_count": null,
      "metadata": {
        "id": "1S11bEfgaXsv"
      },
      "outputs": [],
      "source": [
        "best_model = grid_search.best_estimator_\n",
        "best_model.fit(X_train, y_train)"
      ]
    },
    {
      "cell_type": "markdown",
      "metadata": {
        "id": "uKGQEoumjwAZ"
      },
      "source": [
        "Una vez entrenado, ya es posible realizar las predicciones y evaluar su desempeño para comparación con los modelos anteriores."
      ]
    },
    {
      "cell_type": "code",
      "execution_count": null,
      "metadata": {
        "id": "N0UBowtFadY9"
      },
      "outputs": [],
      "source": [
        "y_pred_hp = best_model.predict(X_test)\n",
        "y_pred_prob_hp = best_model.predict_proba(X_test)[:,1]"
      ]
    },
    {
      "cell_type": "code",
      "execution_count": null,
      "metadata": {
        "id": "Fs7Im0uKaoBw"
      },
      "outputs": [],
      "source": [
        " print('AUC Score: ', roc_auc_score(y_test, y_pred_prob_hp))"
      ]
    },
    {
      "cell_type": "code",
      "execution_count": null,
      "metadata": {
        "id": "px6vjhOFawsZ"
      },
      "outputs": [],
      "source": [
        "false_positives_rate_hp, true_positives_rate_hp, threshold = roc_curve(y_test, y_pred_prob_hp)"
      ]
    },
    {
      "cell_type": "code",
      "execution_count": null,
      "metadata": {
        "id": "4kxc1sDXas0X"
      },
      "outputs": [],
      "source": [
        "# Grafique la curva ROC para ambos modelos\n",
        "\n",
        "\n",
        "plt.title('ROC - Comparación Modelos')\n",
        "\n",
        "###\n",
        "\n",
        "plt.plot(None, None, label = 'SVM Default')\n",
        "plt.plot([0, 1], ls=\"--\")\n",
        "plt.plot(None, None, label = 'Tuned SVM')\n",
        "\n",
        "###\n",
        "\n",
        "plt.ylabel('True Positive Rate')\n",
        "plt.xlabel('False Positive Rate')\n",
        "plt.ylim(0, 1)\n",
        "plt.xlim(0, 1)\n",
        "plt.show()"
      ]
    },
    {
      "cell_type": "markdown",
      "metadata": {
        "id": "yQFwJzQ9WN-a"
      },
      "source": [
        "# Interpretación de Resultados\n",
        "\n",
        "¿Qué puede decir respecto a los resultados obtenidos de la línea base y el SVM? ¿Cómo impactan sus resultados al negocio de STC?"
      ]
    },
    {
      "cell_type": "code",
      "execution_count": null,
      "metadata": {
        "id": "oa9ceIWZb8u0"
      },
      "outputs": [],
      "source": []
    }
  ],
  "metadata": {
    "colab": {
      "provenance": []
    },
    "kernelspec": {
      "display_name": "Python 3",
      "name": "python3"
    },
    "language_info": {
      "name": "python"
    }
  },
  "nbformat": 4,
  "nbformat_minor": 0
}
